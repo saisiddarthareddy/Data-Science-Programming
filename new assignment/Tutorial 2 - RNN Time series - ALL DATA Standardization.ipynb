{
 "cells": [
  {
   "cell_type": "markdown",
   "metadata": {},
   "source": [
    "# Tutorial 2 - RNN Time Series\n",
    "\n",
    "In this notebook, we will predict the weather temperature. "
   ]
  },
  {
   "cell_type": "code",
   "execution_count": 1,
   "metadata": {},
   "outputs": [],
   "source": [
    "import tensorflow as tf\n",
    "from tensorflow import keras\n",
    "from sklearn.metrics import mean_squared_error\n",
    "\n",
    "\n",
    "# Common imports\n",
    "import numpy as np\n",
    "import os\n",
    "\n",
    "# to make this notebook's output stable across runs\n",
    "np.random.seed(42)\n",
    "\n",
    "# To plot pretty figures\n",
    "%matplotlib inline\n",
    "import matplotlib as mpl\n",
    "import matplotlib.pyplot as plt\n",
    "mpl.rc('axes', labelsize=14)\n",
    "mpl.rc('xtick', labelsize=12)\n",
    "mpl.rc('ytick', labelsize=12)"
   ]
  },
  {
   "cell_type": "markdown",
   "metadata": {},
   "source": [
    "# Read the Dataset"
   ]
  },
  {
   "cell_type": "code",
   "execution_count": 2,
   "metadata": {},
   "outputs": [
    {
     "data": {
      "text/html": [
       "<div>\n",
       "<style scoped>\n",
       "    .dataframe tbody tr th:only-of-type {\n",
       "        vertical-align: middle;\n",
       "    }\n",
       "\n",
       "    .dataframe tbody tr th {\n",
       "        vertical-align: top;\n",
       "    }\n",
       "\n",
       "    .dataframe thead th {\n",
       "        text-align: right;\n",
       "    }\n",
       "</style>\n",
       "<table border=\"1\" class=\"dataframe\">\n",
       "  <thead>\n",
       "    <tr style=\"text-align: right;\">\n",
       "      <th></th>\n",
       "      <th>Date</th>\n",
       "      <th>Open</th>\n",
       "      <th>High</th>\n",
       "      <th>Low</th>\n",
       "      <th>Close</th>\n",
       "      <th>Adj Close</th>\n",
       "      <th>Volume</th>\n",
       "    </tr>\n",
       "  </thead>\n",
       "  <tbody>\n",
       "    <tr>\n",
       "      <th>0</th>\n",
       "      <td>2022-11-25</td>\n",
       "      <td>534.159973</td>\n",
       "      <td>535.859985</td>\n",
       "      <td>533.070007</td>\n",
       "      <td>533.659973</td>\n",
       "      <td>532.732605</td>\n",
       "      <td>744200</td>\n",
       "    </tr>\n",
       "    <tr>\n",
       "      <th>1</th>\n",
       "      <td>2022-11-28</td>\n",
       "      <td>530.890015</td>\n",
       "      <td>536.250000</td>\n",
       "      <td>528.940002</td>\n",
       "      <td>530.919983</td>\n",
       "      <td>529.997375</td>\n",
       "      <td>1684300</td>\n",
       "    </tr>\n",
       "    <tr>\n",
       "      <th>2</th>\n",
       "      <td>2022-11-29</td>\n",
       "      <td>531.039978</td>\n",
       "      <td>533.719971</td>\n",
       "      <td>528.000000</td>\n",
       "      <td>528.960022</td>\n",
       "      <td>528.040833</td>\n",
       "      <td>1685700</td>\n",
       "    </tr>\n",
       "    <tr>\n",
       "      <th>3</th>\n",
       "      <td>2022-11-30</td>\n",
       "      <td>527.409973</td>\n",
       "      <td>542.580017</td>\n",
       "      <td>522.140015</td>\n",
       "      <td>539.250000</td>\n",
       "      <td>538.312927</td>\n",
       "      <td>3601800</td>\n",
       "    </tr>\n",
       "    <tr>\n",
       "      <th>4</th>\n",
       "      <td>2022-12-01</td>\n",
       "      <td>519.140015</td>\n",
       "      <td>519.140015</td>\n",
       "      <td>495.670013</td>\n",
       "      <td>503.859985</td>\n",
       "      <td>502.984406</td>\n",
       "      <td>6970400</td>\n",
       "    </tr>\n",
       "  </tbody>\n",
       "</table>\n",
       "</div>"
      ],
      "text/plain": [
       "         Date        Open        High         Low       Close   Adj Close  \\\n",
       "0  2022-11-25  534.159973  535.859985  533.070007  533.659973  532.732605   \n",
       "1  2022-11-28  530.890015  536.250000  528.940002  530.919983  529.997375   \n",
       "2  2022-11-29  531.039978  533.719971  528.000000  528.960022  528.040833   \n",
       "3  2022-11-30  527.409973  542.580017  522.140015  539.250000  538.312927   \n",
       "4  2022-12-01  519.140015  519.140015  495.670013  503.859985  502.984406   \n",
       "\n",
       "    Volume  \n",
       "0   744200  \n",
       "1  1684300  \n",
       "2  1685700  \n",
       "3  3601800  \n",
       "4  6970400  "
      ]
     },
     "execution_count": 2,
     "metadata": {},
     "output_type": "execute_result"
    }
   ],
   "source": [
    "import pandas as pd\n",
    "\n",
    "COSTCO = pd.read_csv('COSTCO.csv')\n",
    "\n",
    "COSTCO.head()"
   ]
  },
  {
   "cell_type": "code",
   "execution_count": 3,
   "metadata": {},
   "outputs": [
    {
     "data": {
      "text/html": [
       "<div>\n",
       "<style scoped>\n",
       "    .dataframe tbody tr th:only-of-type {\n",
       "        vertical-align: middle;\n",
       "    }\n",
       "\n",
       "    .dataframe tbody tr th {\n",
       "        vertical-align: top;\n",
       "    }\n",
       "\n",
       "    .dataframe thead th {\n",
       "        text-align: right;\n",
       "    }\n",
       "</style>\n",
       "<table border=\"1\" class=\"dataframe\">\n",
       "  <thead>\n",
       "    <tr style=\"text-align: right;\">\n",
       "      <th></th>\n",
       "      <th>Date</th>\n",
       "      <th>Open</th>\n",
       "      <th>High</th>\n",
       "      <th>Low</th>\n",
       "      <th>Close</th>\n",
       "      <th>Adj Close</th>\n",
       "      <th>Volume</th>\n",
       "    </tr>\n",
       "  </thead>\n",
       "  <tbody>\n",
       "    <tr>\n",
       "      <th>0</th>\n",
       "      <td>2022-11-25</td>\n",
       "      <td>534.159973</td>\n",
       "      <td>535.859985</td>\n",
       "      <td>533.070007</td>\n",
       "      <td>533.659973</td>\n",
       "      <td>532.732605</td>\n",
       "      <td>744200</td>\n",
       "    </tr>\n",
       "    <tr>\n",
       "      <th>1</th>\n",
       "      <td>2022-11-28</td>\n",
       "      <td>530.890015</td>\n",
       "      <td>536.250000</td>\n",
       "      <td>528.940002</td>\n",
       "      <td>530.919983</td>\n",
       "      <td>529.997375</td>\n",
       "      <td>1684300</td>\n",
       "    </tr>\n",
       "    <tr>\n",
       "      <th>2</th>\n",
       "      <td>2022-11-29</td>\n",
       "      <td>531.039978</td>\n",
       "      <td>533.719971</td>\n",
       "      <td>528.000000</td>\n",
       "      <td>528.960022</td>\n",
       "      <td>528.040833</td>\n",
       "      <td>1685700</td>\n",
       "    </tr>\n",
       "    <tr>\n",
       "      <th>3</th>\n",
       "      <td>2022-11-30</td>\n",
       "      <td>527.409973</td>\n",
       "      <td>542.580017</td>\n",
       "      <td>522.140015</td>\n",
       "      <td>539.250000</td>\n",
       "      <td>538.312927</td>\n",
       "      <td>3601800</td>\n",
       "    </tr>\n",
       "    <tr>\n",
       "      <th>4</th>\n",
       "      <td>2022-12-01</td>\n",
       "      <td>519.140015</td>\n",
       "      <td>519.140015</td>\n",
       "      <td>495.670013</td>\n",
       "      <td>503.859985</td>\n",
       "      <td>502.984406</td>\n",
       "      <td>6970400</td>\n",
       "    </tr>\n",
       "    <tr>\n",
       "      <th>...</th>\n",
       "      <td>...</td>\n",
       "      <td>...</td>\n",
       "      <td>...</td>\n",
       "      <td>...</td>\n",
       "      <td>...</td>\n",
       "      <td>...</td>\n",
       "      <td>...</td>\n",
       "    </tr>\n",
       "    <tr>\n",
       "      <th>95</th>\n",
       "      <td>2023-04-14</td>\n",
       "      <td>496.190002</td>\n",
       "      <td>500.369995</td>\n",
       "      <td>490.160004</td>\n",
       "      <td>491.299988</td>\n",
       "      <td>491.299988</td>\n",
       "      <td>1674800</td>\n",
       "    </tr>\n",
       "    <tr>\n",
       "      <th>96</th>\n",
       "      <td>2023-04-17</td>\n",
       "      <td>492.769989</td>\n",
       "      <td>497.890015</td>\n",
       "      <td>491.149994</td>\n",
       "      <td>493.940002</td>\n",
       "      <td>493.940002</td>\n",
       "      <td>1411800</td>\n",
       "    </tr>\n",
       "    <tr>\n",
       "      <th>97</th>\n",
       "      <td>2023-04-18</td>\n",
       "      <td>496.100006</td>\n",
       "      <td>497.630005</td>\n",
       "      <td>494.119995</td>\n",
       "      <td>496.899994</td>\n",
       "      <td>496.899994</td>\n",
       "      <td>1339600</td>\n",
       "    </tr>\n",
       "    <tr>\n",
       "      <th>98</th>\n",
       "      <td>2023-04-19</td>\n",
       "      <td>497.130005</td>\n",
       "      <td>497.989990</td>\n",
       "      <td>493.829987</td>\n",
       "      <td>496.029999</td>\n",
       "      <td>496.029999</td>\n",
       "      <td>1098800</td>\n",
       "    </tr>\n",
       "    <tr>\n",
       "      <th>99</th>\n",
       "      <td>2023-04-20</td>\n",
       "      <td>495.750000</td>\n",
       "      <td>510.660004</td>\n",
       "      <td>495.510010</td>\n",
       "      <td>505.579987</td>\n",
       "      <td>505.579987</td>\n",
       "      <td>2935700</td>\n",
       "    </tr>\n",
       "  </tbody>\n",
       "</table>\n",
       "<p>100 rows × 7 columns</p>\n",
       "</div>"
      ],
      "text/plain": [
       "          Date        Open        High         Low       Close   Adj Close  \\\n",
       "0   2022-11-25  534.159973  535.859985  533.070007  533.659973  532.732605   \n",
       "1   2022-11-28  530.890015  536.250000  528.940002  530.919983  529.997375   \n",
       "2   2022-11-29  531.039978  533.719971  528.000000  528.960022  528.040833   \n",
       "3   2022-11-30  527.409973  542.580017  522.140015  539.250000  538.312927   \n",
       "4   2022-12-01  519.140015  519.140015  495.670013  503.859985  502.984406   \n",
       "..         ...         ...         ...         ...         ...         ...   \n",
       "95  2023-04-14  496.190002  500.369995  490.160004  491.299988  491.299988   \n",
       "96  2023-04-17  492.769989  497.890015  491.149994  493.940002  493.940002   \n",
       "97  2023-04-18  496.100006  497.630005  494.119995  496.899994  496.899994   \n",
       "98  2023-04-19  497.130005  497.989990  493.829987  496.029999  496.029999   \n",
       "99  2023-04-20  495.750000  510.660004  495.510010  505.579987  505.579987   \n",
       "\n",
       "     Volume  \n",
       "0    744200  \n",
       "1   1684300  \n",
       "2   1685700  \n",
       "3   3601800  \n",
       "4   6970400  \n",
       "..      ...  \n",
       "95  1674800  \n",
       "96  1411800  \n",
       "97  1339600  \n",
       "98  1098800  \n",
       "99  2935700  \n",
       "\n",
       "[100 rows x 7 columns]"
      ]
     },
     "execution_count": 3,
     "metadata": {},
     "output_type": "execute_result"
    }
   ],
   "source": [
    "COSTCO"
   ]
  },
  {
   "cell_type": "code",
   "execution_count": 4,
   "metadata": {},
   "outputs": [],
   "source": [
    "#Drop the columns we don't need\n",
    "\n",
    "COSTCO = COSTCO.drop(['Open', 'High', 'Low', 'Adj Close', 'Volume'], axis=1)"
   ]
  },
  {
   "cell_type": "code",
   "execution_count": 5,
   "metadata": {},
   "outputs": [
    {
     "data": {
      "text/html": [
       "<div>\n",
       "<style scoped>\n",
       "    .dataframe tbody tr th:only-of-type {\n",
       "        vertical-align: middle;\n",
       "    }\n",
       "\n",
       "    .dataframe tbody tr th {\n",
       "        vertical-align: top;\n",
       "    }\n",
       "\n",
       "    .dataframe thead th {\n",
       "        text-align: right;\n",
       "    }\n",
       "</style>\n",
       "<table border=\"1\" class=\"dataframe\">\n",
       "  <thead>\n",
       "    <tr style=\"text-align: right;\">\n",
       "      <th></th>\n",
       "      <th>Date</th>\n",
       "      <th>Close</th>\n",
       "    </tr>\n",
       "  </thead>\n",
       "  <tbody>\n",
       "    <tr>\n",
       "      <th>0</th>\n",
       "      <td>2022-11-25</td>\n",
       "      <td>533.659973</td>\n",
       "    </tr>\n",
       "    <tr>\n",
       "      <th>1</th>\n",
       "      <td>2022-11-28</td>\n",
       "      <td>530.919983</td>\n",
       "    </tr>\n",
       "    <tr>\n",
       "      <th>2</th>\n",
       "      <td>2022-11-29</td>\n",
       "      <td>528.960022</td>\n",
       "    </tr>\n",
       "    <tr>\n",
       "      <th>3</th>\n",
       "      <td>2022-11-30</td>\n",
       "      <td>539.250000</td>\n",
       "    </tr>\n",
       "    <tr>\n",
       "      <th>4</th>\n",
       "      <td>2022-12-01</td>\n",
       "      <td>503.859985</td>\n",
       "    </tr>\n",
       "    <tr>\n",
       "      <th>...</th>\n",
       "      <td>...</td>\n",
       "      <td>...</td>\n",
       "    </tr>\n",
       "    <tr>\n",
       "      <th>95</th>\n",
       "      <td>2023-04-14</td>\n",
       "      <td>491.299988</td>\n",
       "    </tr>\n",
       "    <tr>\n",
       "      <th>96</th>\n",
       "      <td>2023-04-17</td>\n",
       "      <td>493.940002</td>\n",
       "    </tr>\n",
       "    <tr>\n",
       "      <th>97</th>\n",
       "      <td>2023-04-18</td>\n",
       "      <td>496.899994</td>\n",
       "    </tr>\n",
       "    <tr>\n",
       "      <th>98</th>\n",
       "      <td>2023-04-19</td>\n",
       "      <td>496.029999</td>\n",
       "    </tr>\n",
       "    <tr>\n",
       "      <th>99</th>\n",
       "      <td>2023-04-20</td>\n",
       "      <td>505.579987</td>\n",
       "    </tr>\n",
       "  </tbody>\n",
       "</table>\n",
       "<p>100 rows × 2 columns</p>\n",
       "</div>"
      ],
      "text/plain": [
       "          Date       Close\n",
       "0   2022-11-25  533.659973\n",
       "1   2022-11-28  530.919983\n",
       "2   2022-11-29  528.960022\n",
       "3   2022-11-30  539.250000\n",
       "4   2022-12-01  503.859985\n",
       "..         ...         ...\n",
       "95  2023-04-14  491.299988\n",
       "96  2023-04-17  493.940002\n",
       "97  2023-04-18  496.899994\n",
       "98  2023-04-19  496.029999\n",
       "99  2023-04-20  505.579987\n",
       "\n",
       "[100 rows x 2 columns]"
      ]
     },
     "execution_count": 5,
     "metadata": {},
     "output_type": "execute_result"
    }
   ],
   "source": [
    "COSTCO"
   ]
  },
  {
   "cell_type": "code",
   "execution_count": 6,
   "metadata": {},
   "outputs": [
    {
     "data": {
      "image/png": "[encoded data removed]",
      "text/plain": [
       "<Figure size 432x288 with 1 Axes>"
      ]
     },
     "metadata": {
      "needs_background": "light"
     },
     "output_type": "display_data"
    }
   ],
   "source": [
    "#Plot temp\n",
    "\n",
    "plt.plot(COSTCO['Close'])\n",
    "plt.show()"
   ]
  },
  {
   "cell_type": "markdown",
   "metadata": {},
   "source": [
    "# Data Cleanup"
   ]
  },
  {
   "cell_type": "code",
   "execution_count": 7,
   "metadata": {},
   "outputs": [],
   "source": [
    "# Remove all null values\n",
    "\n",
    "COSTCO = COSTCO.dropna().reset_index(drop=True)"
   ]
  },
  {
   "cell_type": "code",
   "execution_count": 8,
   "metadata": {},
   "outputs": [
    {
     "data": {
      "image/png": "[encoded data removed]",
      "text/plain": [
       "<Figure size 432x288 with 1 Axes>"
      ]
     },
     "metadata": {
      "needs_background": "light"
     },
     "output_type": "display_data"
    }
   ],
   "source": [
    "plt.plot(COSTCO['Close'])\n",
    "plt.show()"
   ]
  },
  {
   "cell_type": "markdown",
   "metadata": {},
   "source": [
    "## RESHAPE the data set!"
   ]
  },
  {
   "cell_type": "code",
   "execution_count": 9,
   "metadata": {},
   "outputs": [
    {
     "data": {
      "text/plain": [
       "(100, 2)"
      ]
     },
     "execution_count": 9,
     "metadata": {},
     "output_type": "execute_result"
    }
   ],
   "source": [
    "COSTCO.shape"
   ]
  },
  {
   "cell_type": "code",
   "execution_count": 10,
   "metadata": {},
   "outputs": [
    {
     "data": {
      "text/plain": [
       "10.0"
      ]
     },
     "execution_count": 10,
     "metadata": {},
     "output_type": "execute_result"
    }
   ],
   "source": [
    "# Note that not all days have 24 readings. Some are missing.\n",
    "\n",
    "COSTCO.shape[0]/10"
   ]
  },
  {
   "cell_type": "code",
   "execution_count": 11,
   "metadata": {},
   "outputs": [
    {
     "data": {
      "text/html": [
       "<div>\n",
       "<style scoped>\n",
       "    .dataframe tbody tr th:only-of-type {\n",
       "        vertical-align: middle;\n",
       "    }\n",
       "\n",
       "    .dataframe tbody tr th {\n",
       "        vertical-align: top;\n",
       "    }\n",
       "\n",
       "    .dataframe thead th {\n",
       "        text-align: right;\n",
       "    }\n",
       "</style>\n",
       "<table border=\"1\" class=\"dataframe\">\n",
       "  <thead>\n",
       "    <tr style=\"text-align: right;\">\n",
       "      <th></th>\n",
       "      <th>Close</th>\n",
       "    </tr>\n",
       "    <tr>\n",
       "      <th>Date</th>\n",
       "      <th></th>\n",
       "    </tr>\n",
       "  </thead>\n",
       "  <tbody>\n",
       "    <tr>\n",
       "      <th>2022-11-25</th>\n",
       "      <td>1</td>\n",
       "    </tr>\n",
       "    <tr>\n",
       "      <th>2022-11-28</th>\n",
       "      <td>1</td>\n",
       "    </tr>\n",
       "    <tr>\n",
       "      <th>2022-11-29</th>\n",
       "      <td>1</td>\n",
       "    </tr>\n",
       "    <tr>\n",
       "      <th>2022-11-30</th>\n",
       "      <td>1</td>\n",
       "    </tr>\n",
       "    <tr>\n",
       "      <th>2022-12-01</th>\n",
       "      <td>1</td>\n",
       "    </tr>\n",
       "    <tr>\n",
       "      <th>...</th>\n",
       "      <td>...</td>\n",
       "    </tr>\n",
       "    <tr>\n",
       "      <th>2023-04-14</th>\n",
       "      <td>1</td>\n",
       "    </tr>\n",
       "    <tr>\n",
       "      <th>2023-04-17</th>\n",
       "      <td>1</td>\n",
       "    </tr>\n",
       "    <tr>\n",
       "      <th>2023-04-18</th>\n",
       "      <td>1</td>\n",
       "    </tr>\n",
       "    <tr>\n",
       "      <th>2023-04-19</th>\n",
       "      <td>1</td>\n",
       "    </tr>\n",
       "    <tr>\n",
       "      <th>2023-04-20</th>\n",
       "      <td>1</td>\n",
       "    </tr>\n",
       "  </tbody>\n",
       "</table>\n",
       "<p>100 rows × 1 columns</p>\n",
       "</div>"
      ],
      "text/plain": [
       "            Close\n",
       "Date             \n",
       "2022-11-25      1\n",
       "2022-11-28      1\n",
       "2022-11-29      1\n",
       "2022-11-30      1\n",
       "2022-12-01      1\n",
       "...           ...\n",
       "2023-04-14      1\n",
       "2023-04-17      1\n",
       "2023-04-18      1\n",
       "2023-04-19      1\n",
       "2023-04-20      1\n",
       "\n",
       "[100 rows x 1 columns]"
      ]
     },
     "execution_count": 11,
     "metadata": {},
     "output_type": "execute_result"
    }
   ],
   "source": [
    "COSTCO.groupby(['Date']).count()"
   ]
  },
  {
   "cell_type": "code",
   "execution_count": 12,
   "metadata": {},
   "outputs": [
    {
     "data": {
      "text/plain": [
       "array([[533.659973, 530.919983, 528.960022, 539.25    , 503.859985,\n",
       "        494.529999, 488.660004, 481.160004, 481.970001, 481.420013],\n",
       "       [483.019989, 487.679993, 488.200012, 483.519989, 463.910004,\n",
       "        461.450012, 458.630005, 457.820007, 462.059998, 458.709991],\n",
       "       [462.649994, 458.5     , 452.98999 , 456.529999, 456.5     ,\n",
       "        453.279999, 456.559998, 450.190002, 482.869995, 478.75    ],\n",
       "       [481.399994, 484.309998, 482.429993, 485.25    , 486.769989,\n",
       "        479.470001, 469.48999 , 480.109985, 492.609985, 492.109985],\n",
       "       [490.880005, 498.299988, 503.290009, 503.279999, 511.140015,\n",
       "        517.909973, 523.429993, 514.799988, 515.590027, 516.530029],\n",
       "       [503.809998, 500.630005, 499.98999 , 506.450012, 503.220001,\n",
       "        511.279999, 504.100006, 507.480011, 501.73999 , 497.390015],\n",
       "       [493.140015, 488.609985, 487.029999, 484.179993, 478.670013,\n",
       "        485.690002, 475.26001 , 483.079987, 485.149994, 486.040009],\n",
       "       [479.519989, 471.140015, 472.      , 481.920013, 485.660004,\n",
       "        487.26001 , 487.049988, 489.290009, 490.850006, 487.519989],\n",
       "       [487.76001 , 495.269989, 493.220001, 486.769989, 490.869995,\n",
       "        491.480011, 496.869995, 497.029999, 497.730011, 497.130005],\n",
       "       [485.980011, 493.829987, 498.649994, 489.350006, 497.890015,\n",
       "        491.299988, 493.940002, 496.899994, 496.029999, 505.579987]])"
      ]
     },
     "execution_count": 12,
     "metadata": {},
     "output_type": "execute_result"
    }
   ],
   "source": [
    "# Re-organize the data set by day and hours\n",
    "\n",
    "temp = np.array(COSTCO['Close']).reshape(10,10)\n",
    "\n",
    "temp"
   ]
  },
  {
   "cell_type": "code",
   "execution_count": 13,
   "metadata": {},
   "outputs": [
    {
     "data": {
      "text/html": [
       "<div>\n",
       "<style scoped>\n",
       "    .dataframe tbody tr th:only-of-type {\n",
       "        vertical-align: middle;\n",
       "    }\n",
       "\n",
       "    .dataframe tbody tr th {\n",
       "        vertical-align: top;\n",
       "    }\n",
       "\n",
       "    .dataframe thead th {\n",
       "        text-align: right;\n",
       "    }\n",
       "</style>\n",
       "<table border=\"1\" class=\"dataframe\">\n",
       "  <thead>\n",
       "    <tr style=\"text-align: right;\">\n",
       "      <th></th>\n",
       "      <th>0</th>\n",
       "      <th>1</th>\n",
       "      <th>2</th>\n",
       "      <th>3</th>\n",
       "      <th>4</th>\n",
       "      <th>5</th>\n",
       "      <th>6</th>\n",
       "      <th>7</th>\n",
       "      <th>8</th>\n",
       "      <th>9</th>\n",
       "    </tr>\n",
       "  </thead>\n",
       "  <tbody>\n",
       "    <tr>\n",
       "      <th>0</th>\n",
       "      <td>533.659973</td>\n",
       "      <td>530.919983</td>\n",
       "      <td>528.960022</td>\n",
       "      <td>539.250000</td>\n",
       "      <td>503.859985</td>\n",
       "      <td>494.529999</td>\n",
       "      <td>488.660004</td>\n",
       "      <td>481.160004</td>\n",
       "      <td>481.970001</td>\n",
       "      <td>481.420013</td>\n",
       "    </tr>\n",
       "    <tr>\n",
       "      <th>1</th>\n",
       "      <td>483.019989</td>\n",
       "      <td>487.679993</td>\n",
       "      <td>488.200012</td>\n",
       "      <td>483.519989</td>\n",
       "      <td>463.910004</td>\n",
       "      <td>461.450012</td>\n",
       "      <td>458.630005</td>\n",
       "      <td>457.820007</td>\n",
       "      <td>462.059998</td>\n",
       "      <td>458.709991</td>\n",
       "    </tr>\n",
       "    <tr>\n",
       "      <th>2</th>\n",
       "      <td>462.649994</td>\n",
       "      <td>458.500000</td>\n",
       "      <td>452.989990</td>\n",
       "      <td>456.529999</td>\n",
       "      <td>456.500000</td>\n",
       "      <td>453.279999</td>\n",
       "      <td>456.559998</td>\n",
       "      <td>450.190002</td>\n",
       "      <td>482.869995</td>\n",
       "      <td>478.750000</td>\n",
       "    </tr>\n",
       "    <tr>\n",
       "      <th>3</th>\n",
       "      <td>481.399994</td>\n",
       "      <td>484.309998</td>\n",
       "      <td>482.429993</td>\n",
       "      <td>485.250000</td>\n",
       "      <td>486.769989</td>\n",
       "      <td>479.470001</td>\n",
       "      <td>469.489990</td>\n",
       "      <td>480.109985</td>\n",
       "      <td>492.609985</td>\n",
       "      <td>492.109985</td>\n",
       "    </tr>\n",
       "    <tr>\n",
       "      <th>4</th>\n",
       "      <td>490.880005</td>\n",
       "      <td>498.299988</td>\n",
       "      <td>503.290009</td>\n",
       "      <td>503.279999</td>\n",
       "      <td>511.140015</td>\n",
       "      <td>517.909973</td>\n",
       "      <td>523.429993</td>\n",
       "      <td>514.799988</td>\n",
       "      <td>515.590027</td>\n",
       "      <td>516.530029</td>\n",
       "    </tr>\n",
       "    <tr>\n",
       "      <th>5</th>\n",
       "      <td>503.809998</td>\n",
       "      <td>500.630005</td>\n",
       "      <td>499.989990</td>\n",
       "      <td>506.450012</td>\n",
       "      <td>503.220001</td>\n",
       "      <td>511.279999</td>\n",
       "      <td>504.100006</td>\n",
       "      <td>507.480011</td>\n",
       "      <td>501.739990</td>\n",
       "      <td>497.390015</td>\n",
       "    </tr>\n",
       "    <tr>\n",
       "      <th>6</th>\n",
       "      <td>493.140015</td>\n",
       "      <td>488.609985</td>\n",
       "      <td>487.029999</td>\n",
       "      <td>484.179993</td>\n",
       "      <td>478.670013</td>\n",
       "      <td>485.690002</td>\n",
       "      <td>475.260010</td>\n",
       "      <td>483.079987</td>\n",
       "      <td>485.149994</td>\n",
       "      <td>486.040009</td>\n",
       "    </tr>\n",
       "    <tr>\n",
       "      <th>7</th>\n",
       "      <td>479.519989</td>\n",
       "      <td>471.140015</td>\n",
       "      <td>472.000000</td>\n",
       "      <td>481.920013</td>\n",
       "      <td>485.660004</td>\n",
       "      <td>487.260010</td>\n",
       "      <td>487.049988</td>\n",
       "      <td>489.290009</td>\n",
       "      <td>490.850006</td>\n",
       "      <td>487.519989</td>\n",
       "    </tr>\n",
       "    <tr>\n",
       "      <th>8</th>\n",
       "      <td>487.760010</td>\n",
       "      <td>495.269989</td>\n",
       "      <td>493.220001</td>\n",
       "      <td>486.769989</td>\n",
       "      <td>490.869995</td>\n",
       "      <td>491.480011</td>\n",
       "      <td>496.869995</td>\n",
       "      <td>497.029999</td>\n",
       "      <td>497.730011</td>\n",
       "      <td>497.130005</td>\n",
       "    </tr>\n",
       "    <tr>\n",
       "      <th>9</th>\n",
       "      <td>485.980011</td>\n",
       "      <td>493.829987</td>\n",
       "      <td>498.649994</td>\n",
       "      <td>489.350006</td>\n",
       "      <td>497.890015</td>\n",
       "      <td>491.299988</td>\n",
       "      <td>493.940002</td>\n",
       "      <td>496.899994</td>\n",
       "      <td>496.029999</td>\n",
       "      <td>505.579987</td>\n",
       "    </tr>\n",
       "  </tbody>\n",
       "</table>\n",
       "</div>"
      ],
      "text/plain": [
       "            0           1           2           3           4           5  \\\n",
       "0  533.659973  530.919983  528.960022  539.250000  503.859985  494.529999   \n",
       "1  483.019989  487.679993  488.200012  483.519989  463.910004  461.450012   \n",
       "2  462.649994  458.500000  452.989990  456.529999  456.500000  453.279999   \n",
       "3  481.399994  484.309998  482.429993  485.250000  486.769989  479.470001   \n",
       "4  490.880005  498.299988  503.290009  503.279999  511.140015  517.909973   \n",
       "5  503.809998  500.630005  499.989990  506.450012  503.220001  511.279999   \n",
       "6  493.140015  488.609985  487.029999  484.179993  478.670013  485.690002   \n",
       "7  479.519989  471.140015  472.000000  481.920013  485.660004  487.260010   \n",
       "8  487.760010  495.269989  493.220001  486.769989  490.869995  491.480011   \n",
       "9  485.980011  493.829987  498.649994  489.350006  497.890015  491.299988   \n",
       "\n",
       "            6           7           8           9  \n",
       "0  488.660004  481.160004  481.970001  481.420013  \n",
       "1  458.630005  457.820007  462.059998  458.709991  \n",
       "2  456.559998  450.190002  482.869995  478.750000  \n",
       "3  469.489990  480.109985  492.609985  492.109985  \n",
       "4  523.429993  514.799988  515.590027  516.530029  \n",
       "5  504.100006  507.480011  501.739990  497.390015  \n",
       "6  475.260010  483.079987  485.149994  486.040009  \n",
       "7  487.049988  489.290009  490.850006  487.519989  \n",
       "8  496.869995  497.029999  497.730011  497.130005  \n",
       "9  493.940002  496.899994  496.029999  505.579987  "
      ]
     },
     "execution_count": 13,
     "metadata": {},
     "output_type": "execute_result"
    }
   ],
   "source": [
    "# Convert to dataframe\n",
    "\n",
    "temp_df = pd.DataFrame(temp, columns=np.arange(0,10,1))\n",
    "\n",
    "temp_df"
   ]
  },
  {
   "cell_type": "markdown",
   "metadata": {},
   "source": [
    "# Reshape for Standardizing Data"
   ]
  },
  {
   "cell_type": "code",
   "execution_count": 14,
   "metadata": {},
   "outputs": [
    {
     "data": {
      "text/plain": [
       "(100, 1)"
      ]
     },
     "execution_count": 14,
     "metadata": {},
     "output_type": "execute_result"
    }
   ],
   "source": [
    "# Let's create a single sequence (i.e., feature) for standardization\n",
    "\n",
    "temp_1feature = np.array(temp_df).ravel().reshape(-1,1)\n",
    "\n",
    "temp_1feature.shape"
   ]
  },
  {
   "cell_type": "code",
   "execution_count": 15,
   "metadata": {
    "scrolled": true
   },
   "outputs": [
    {
     "data": {
      "text/plain": [
       "array([[533.659973],\n",
       "       [530.919983],\n",
       "       [528.960022],\n",
       "       [539.25    ],\n",
       "       [503.859985],\n",
       "       [494.529999],\n",
       "       [488.660004],\n",
       "       [481.160004],\n",
       "       [481.970001],\n",
       "       [481.420013],\n",
       "       [483.019989],\n",
       "       [487.679993],\n",
       "       [488.200012],\n",
       "       [483.519989],\n",
       "       [463.910004],\n",
       "       [461.450012],\n",
       "       [458.630005],\n",
       "       [457.820007],\n",
       "       [462.059998],\n",
       "       [458.709991],\n",
       "       [462.649994],\n",
       "       [458.5     ],\n",
       "       [452.98999 ],\n",
       "       [456.529999],\n",
       "       [456.5     ],\n",
       "       [453.279999],\n",
       "       [456.559998],\n",
       "       [450.190002],\n",
       "       [482.869995],\n",
       "       [478.75    ],\n",
       "       [481.399994],\n",
       "       [484.309998],\n",
       "       [482.429993],\n",
       "       [485.25    ],\n",
       "       [486.769989],\n",
       "       [479.470001],\n",
       "       [469.48999 ],\n",
       "       [480.109985],\n",
       "       [492.609985],\n",
       "       [492.109985],\n",
       "       [490.880005],\n",
       "       [498.299988],\n",
       "       [503.290009],\n",
       "       [503.279999],\n",
       "       [511.140015],\n",
       "       [517.909973],\n",
       "       [523.429993],\n",
       "       [514.799988],\n",
       "       [515.590027],\n",
       "       [516.530029],\n",
       "       [503.809998],\n",
       "       [500.630005],\n",
       "       [499.98999 ],\n",
       "       [506.450012],\n",
       "       [503.220001],\n",
       "       [511.279999],\n",
       "       [504.100006],\n",
       "       [507.480011],\n",
       "       [501.73999 ],\n",
       "       [497.390015],\n",
       "       [493.140015],\n",
       "       [488.609985],\n",
       "       [487.029999],\n",
       "       [484.179993],\n",
       "       [478.670013],\n",
       "       [485.690002],\n",
       "       [475.26001 ],\n",
       "       [483.079987],\n",
       "       [485.149994],\n",
       "       [486.040009],\n",
       "       [479.519989],\n",
       "       [471.140015],\n",
       "       [472.      ],\n",
       "       [481.920013],\n",
       "       [485.660004],\n",
       "       [487.26001 ],\n",
       "       [487.049988],\n",
       "       [489.290009],\n",
       "       [490.850006],\n",
       "       [487.519989],\n",
       "       [487.76001 ],\n",
       "       [495.269989],\n",
       "       [493.220001],\n",
       "       [486.769989],\n",
       "       [490.869995],\n",
       "       [491.480011],\n",
       "       [496.869995],\n",
       "       [497.029999],\n",
       "       [497.730011],\n",
       "       [497.130005],\n",
       "       [485.980011],\n",
       "       [493.829987],\n",
       "       [498.649994],\n",
       "       [489.350006],\n",
       "       [497.890015],\n",
       "       [491.299988],\n",
       "       [493.940002],\n",
       "       [496.899994],\n",
       "       [496.029999],\n",
       "       [505.579987]])"
      ]
     },
     "execution_count": 15,
     "metadata": {},
     "output_type": "execute_result"
    }
   ],
   "source": [
    "temp_1feature"
   ]
  },
  {
   "cell_type": "markdown",
   "metadata": {},
   "source": [
    "## Standardize the values"
   ]
  },
  {
   "cell_type": "code",
   "execution_count": 16,
   "metadata": {},
   "outputs": [],
   "source": [
    "# Next, standardize\n",
    "\n",
    "from sklearn.preprocessing import StandardScaler\n",
    "\n",
    "scaler = StandardScaler()\n",
    "\n",
    "temp_std = scaler.fit_transform(temp_1feature)"
   ]
  },
  {
   "cell_type": "markdown",
   "metadata": {},
   "source": [
    "## Reshape the data back to 24-hour format"
   ]
  },
  {
   "cell_type": "code",
   "execution_count": 17,
   "metadata": {},
   "outputs": [
    {
     "data": {
      "text/plain": [
       "(10, 10)"
      ]
     },
     "execution_count": 17,
     "metadata": {},
     "output_type": "execute_result"
    }
   ],
   "source": [
    "temp_reshaped = temp_std.reshape(10,10)\n",
    "\n",
    "temp_reshaped.shape"
   ]
  },
  {
   "cell_type": "code",
   "execution_count": 18,
   "metadata": {},
   "outputs": [
    {
     "data": {
      "text/html": [
       "<div>\n",
       "<style scoped>\n",
       "    .dataframe tbody tr th:only-of-type {\n",
       "        vertical-align: middle;\n",
       "    }\n",
       "\n",
       "    .dataframe tbody tr th {\n",
       "        vertical-align: top;\n",
       "    }\n",
       "\n",
       "    .dataframe thead th {\n",
       "        text-align: right;\n",
       "    }\n",
       "</style>\n",
       "<table border=\"1\" class=\"dataframe\">\n",
       "  <thead>\n",
       "    <tr style=\"text-align: right;\">\n",
       "      <th></th>\n",
       "      <th>0</th>\n",
       "      <th>1</th>\n",
       "      <th>2</th>\n",
       "      <th>3</th>\n",
       "      <th>4</th>\n",
       "      <th>5</th>\n",
       "      <th>6</th>\n",
       "      <th>7</th>\n",
       "      <th>8</th>\n",
       "      <th>9</th>\n",
       "    </tr>\n",
       "  </thead>\n",
       "  <tbody>\n",
       "    <tr>\n",
       "      <th>0</th>\n",
       "      <td>2.471019</td>\n",
       "      <td>2.319211</td>\n",
       "      <td>2.210621</td>\n",
       "      <td>2.780732</td>\n",
       "      <td>0.819964</td>\n",
       "      <td>0.303041</td>\n",
       "      <td>-0.022184</td>\n",
       "      <td>-0.437718</td>\n",
       "      <td>-0.392840</td>\n",
       "      <td>-0.423312</td>\n",
       "    </tr>\n",
       "    <tr>\n",
       "      <th>1</th>\n",
       "      <td>-0.334666</td>\n",
       "      <td>-0.076481</td>\n",
       "      <td>-0.047669</td>\n",
       "      <td>-0.306964</td>\n",
       "      <td>-1.393446</td>\n",
       "      <td>-1.529741</td>\n",
       "      <td>-1.685982</td>\n",
       "      <td>-1.730860</td>\n",
       "      <td>-1.495945</td>\n",
       "      <td>-1.681551</td>\n",
       "    </tr>\n",
       "    <tr>\n",
       "      <th>2</th>\n",
       "      <td>-1.463257</td>\n",
       "      <td>-1.693185</td>\n",
       "      <td>-1.998465</td>\n",
       "      <td>-1.802332</td>\n",
       "      <td>-1.803994</td>\n",
       "      <td>-1.982397</td>\n",
       "      <td>-1.800670</td>\n",
       "      <td>-2.153597</td>\n",
       "      <td>-0.342977</td>\n",
       "      <td>-0.571243</td>\n",
       "    </tr>\n",
       "    <tr>\n",
       "      <th>3</th>\n",
       "      <td>-0.424421</td>\n",
       "      <td>-0.263194</td>\n",
       "      <td>-0.367355</td>\n",
       "      <td>-0.211113</td>\n",
       "      <td>-0.126899</td>\n",
       "      <td>-0.531352</td>\n",
       "      <td>-1.084290</td>\n",
       "      <td>-0.495894</td>\n",
       "      <td>0.196663</td>\n",
       "      <td>0.168961</td>\n",
       "    </tr>\n",
       "    <tr>\n",
       "      <th>4</th>\n",
       "      <td>0.100814</td>\n",
       "      <td>0.511915</td>\n",
       "      <td>0.788385</td>\n",
       "      <td>0.787830</td>\n",
       "      <td>1.223311</td>\n",
       "      <td>1.598398</td>\n",
       "      <td>1.904232</td>\n",
       "      <td>1.426090</td>\n",
       "      <td>1.469862</td>\n",
       "      <td>1.521942</td>\n",
       "    </tr>\n",
       "    <tr>\n",
       "      <th>5</th>\n",
       "      <td>0.817195</td>\n",
       "      <td>0.641009</td>\n",
       "      <td>0.605549</td>\n",
       "      <td>0.963464</td>\n",
       "      <td>0.784506</td>\n",
       "      <td>1.231067</td>\n",
       "      <td>0.833263</td>\n",
       "      <td>1.020530</td>\n",
       "      <td>0.702507</td>\n",
       "      <td>0.461499</td>\n",
       "    </tr>\n",
       "    <tr>\n",
       "      <th>6</th>\n",
       "      <td>0.226029</td>\n",
       "      <td>-0.024955</td>\n",
       "      <td>-0.112493</td>\n",
       "      <td>-0.270397</td>\n",
       "      <td>-0.575675</td>\n",
       "      <td>-0.186735</td>\n",
       "      <td>-0.764604</td>\n",
       "      <td>-0.331342</td>\n",
       "      <td>-0.216654</td>\n",
       "      <td>-0.167343</td>\n",
       "    </tr>\n",
       "    <tr>\n",
       "      <th>7</th>\n",
       "      <td>-0.528582</td>\n",
       "      <td>-0.992871</td>\n",
       "      <td>-0.945224</td>\n",
       "      <td>-0.395610</td>\n",
       "      <td>-0.188397</td>\n",
       "      <td>-0.099750</td>\n",
       "      <td>-0.111386</td>\n",
       "      <td>0.012721</td>\n",
       "      <td>0.099152</td>\n",
       "      <td>-0.085346</td>\n",
       "    </tr>\n",
       "    <tr>\n",
       "      <th>8</th>\n",
       "      <td>-0.072047</td>\n",
       "      <td>0.344039</td>\n",
       "      <td>0.230461</td>\n",
       "      <td>-0.126899</td>\n",
       "      <td>0.100260</td>\n",
       "      <td>0.134057</td>\n",
       "      <td>0.432687</td>\n",
       "      <td>0.441552</td>\n",
       "      <td>0.480336</td>\n",
       "      <td>0.447093</td>\n",
       "    </tr>\n",
       "    <tr>\n",
       "      <th>9</th>\n",
       "      <td>-0.170668</td>\n",
       "      <td>0.264257</td>\n",
       "      <td>0.531307</td>\n",
       "      <td>0.016046</td>\n",
       "      <td>0.489201</td>\n",
       "      <td>0.124083</td>\n",
       "      <td>0.270352</td>\n",
       "      <td>0.434349</td>\n",
       "      <td>0.386148</td>\n",
       "      <td>0.915260</td>\n",
       "    </tr>\n",
       "  </tbody>\n",
       "</table>\n",
       "</div>"
      ],
      "text/plain": [
       "          0         1         2         3         4         5         6  \\\n",
       "0  2.471019  2.319211  2.210621  2.780732  0.819964  0.303041 -0.022184   \n",
       "1 -0.334666 -0.076481 -0.047669 -0.306964 -1.393446 -1.529741 -1.685982   \n",
       "2 -1.463257 -1.693185 -1.998465 -1.802332 -1.803994 -1.982397 -1.800670   \n",
       "3 -0.424421 -0.263194 -0.367355 -0.211113 -0.126899 -0.531352 -1.084290   \n",
       "4  0.100814  0.511915  0.788385  0.787830  1.223311  1.598398  1.904232   \n",
       "5  0.817195  0.641009  0.605549  0.963464  0.784506  1.231067  0.833263   \n",
       "6  0.226029 -0.024955 -0.112493 -0.270397 -0.575675 -0.186735 -0.764604   \n",
       "7 -0.528582 -0.992871 -0.945224 -0.395610 -0.188397 -0.099750 -0.111386   \n",
       "8 -0.072047  0.344039  0.230461 -0.126899  0.100260  0.134057  0.432687   \n",
       "9 -0.170668  0.264257  0.531307  0.016046  0.489201  0.124083  0.270352   \n",
       "\n",
       "          7         8         9  \n",
       "0 -0.437718 -0.392840 -0.423312  \n",
       "1 -1.730860 -1.495945 -1.681551  \n",
       "2 -2.153597 -0.342977 -0.571243  \n",
       "3 -0.495894  0.196663  0.168961  \n",
       "4  1.426090  1.469862  1.521942  \n",
       "5  1.020530  0.702507  0.461499  \n",
       "6 -0.331342 -0.216654 -0.167343  \n",
       "7  0.012721  0.099152 -0.085346  \n",
       "8  0.441552  0.480336  0.447093  \n",
       "9  0.434349  0.386148  0.915260  "
      ]
     },
     "execution_count": 18,
     "metadata": {},
     "output_type": "execute_result"
    }
   ],
   "source": [
    "#Pandas version of the reshaped data\n",
    "\n",
    "pd.DataFrame(temp_reshaped)"
   ]
  },
  {
   "cell_type": "markdown",
   "metadata": {},
   "source": [
    "# Split the Data\n",
    "\n",
    "**In certain cases, we cannot use a random split. For example, if we are trying to predict the stock market, we cannot use a random split. We need to use a chronological split.**\n",
    "\n",
    "BUT, keep in mind if we have something like hourly readings of dayly temperature, we can use a random split on days, but the sequence of the temperature within the day is important to remain sequential.\n",
    "\n",
    "In this case, we are using a random spli because each day as an independent sample."
   ]
  },
  {
   "cell_type": "code",
   "execution_count": 19,
   "metadata": {},
   "outputs": [],
   "source": [
    "from sklearn.model_selection import train_test_split\n",
    "\n",
    "#train, test = train_test_split(temp_reshaped, test_size=0.3)\n",
    "\n",
    "# if we neede to maintain the ordering of the data, we can use the following code to split the data\n",
    "split_point = int(len(temp_reshaped)*0.7)\n",
    "train, test = temp_reshaped[:split_point], temp_reshaped[split_point:]"
   ]
  },
  {
   "cell_type": "code",
   "execution_count": 20,
   "metadata": {},
   "outputs": [
    {
     "data": {
      "text/plain": [
       "(7, 10)"
      ]
     },
     "execution_count": 20,
     "metadata": {},
     "output_type": "execute_result"
    }
   ],
   "source": [
    "train.shape"
   ]
  },
  {
   "cell_type": "code",
   "execution_count": 21,
   "metadata": {},
   "outputs": [
    {
     "data": {
      "text/plain": [
       "array([[ 2.47101917,  2.31921126,  2.21062051,  2.78073208,  0.81996433,\n",
       "         0.30304068, -0.02218373, -0.43771784, -0.39284032, -0.42331215],\n",
       "       [-0.33466621, -0.0764808 , -0.04766938, -0.30696394, -1.39344627,\n",
       "        -1.52974101, -1.68598222, -1.7308598 , -1.49594502, -1.68155064],\n",
       "       [-1.46325656, -1.69318509, -1.9984647 , -1.80233211, -1.80399419,\n",
       "        -1.98239688, -1.80067002, -2.15359677, -0.34297656, -0.57124302],\n",
       "       [-0.4244213 , -0.26319384, -0.36735467, -0.21111346, -0.12689916,\n",
       "        -0.53135169, -1.08428967, -0.49589366,  0.19666318,  0.1689609 ],\n",
       "       [ 0.10081442,  0.51191521,  0.78838507,  0.78783047,  1.22331109,\n",
       "         1.59839755,  1.90423176,  1.42609024,  1.46986199,  1.52194238],\n",
       "       [ 0.81719482,  0.64100875,  0.60554901,  0.9634636 ,  0.78450631,\n",
       "         1.23106684,  0.83326258,  1.02053023,  0.70250697,  0.46149857],\n",
       "       [ 0.22602925, -0.02495501, -0.11249342, -0.27039671, -0.57567466,\n",
       "        -0.18673535, -0.76460433, -0.33134205, -0.21665425, -0.16734337]])"
      ]
     },
     "execution_count": 21,
     "metadata": {},
     "output_type": "execute_result"
    }
   ],
   "source": [
    "train"
   ]
  },
  {
   "cell_type": "code",
   "execution_count": 22,
   "metadata": {},
   "outputs": [
    {
     "data": {
      "text/plain": [
       "(3, 10)"
      ]
     },
     "execution_count": 22,
     "metadata": {},
     "output_type": "execute_result"
    }
   ],
   "source": [
    "test.shape"
   ]
  },
  {
   "cell_type": "markdown",
   "metadata": {},
   "source": [
    "# Create Input and Target values\n",
    "\n",
    "The first 23 hours will be input to predict the 24th hour reading (i.e., target)"
   ]
  },
  {
   "cell_type": "code",
   "execution_count": 23,
   "metadata": {},
   "outputs": [
    {
     "data": {
      "text/html": [
       "<div>\n",
       "<style scoped>\n",
       "    .dataframe tbody tr th:only-of-type {\n",
       "        vertical-align: middle;\n",
       "    }\n",
       "\n",
       "    .dataframe tbody tr th {\n",
       "        vertical-align: top;\n",
       "    }\n",
       "\n",
       "    .dataframe thead th {\n",
       "        text-align: right;\n",
       "    }\n",
       "</style>\n",
       "<table border=\"1\" class=\"dataframe\">\n",
       "  <thead>\n",
       "    <tr style=\"text-align: right;\">\n",
       "      <th></th>\n",
       "      <th>0</th>\n",
       "      <th>1</th>\n",
       "      <th>2</th>\n",
       "      <th>3</th>\n",
       "      <th>4</th>\n",
       "      <th>5</th>\n",
       "      <th>6</th>\n",
       "      <th>7</th>\n",
       "      <th>8</th>\n",
       "    </tr>\n",
       "  </thead>\n",
       "  <tbody>\n",
       "    <tr>\n",
       "      <th>0</th>\n",
       "      <td>2.471019</td>\n",
       "      <td>2.319211</td>\n",
       "      <td>2.210621</td>\n",
       "      <td>2.780732</td>\n",
       "      <td>0.819964</td>\n",
       "      <td>0.303041</td>\n",
       "      <td>-0.022184</td>\n",
       "      <td>-0.437718</td>\n",
       "      <td>-0.392840</td>\n",
       "    </tr>\n",
       "    <tr>\n",
       "      <th>1</th>\n",
       "      <td>-0.334666</td>\n",
       "      <td>-0.076481</td>\n",
       "      <td>-0.047669</td>\n",
       "      <td>-0.306964</td>\n",
       "      <td>-1.393446</td>\n",
       "      <td>-1.529741</td>\n",
       "      <td>-1.685982</td>\n",
       "      <td>-1.730860</td>\n",
       "      <td>-1.495945</td>\n",
       "    </tr>\n",
       "    <tr>\n",
       "      <th>2</th>\n",
       "      <td>-1.463257</td>\n",
       "      <td>-1.693185</td>\n",
       "      <td>-1.998465</td>\n",
       "      <td>-1.802332</td>\n",
       "      <td>-1.803994</td>\n",
       "      <td>-1.982397</td>\n",
       "      <td>-1.800670</td>\n",
       "      <td>-2.153597</td>\n",
       "      <td>-0.342977</td>\n",
       "    </tr>\n",
       "    <tr>\n",
       "      <th>3</th>\n",
       "      <td>-0.424421</td>\n",
       "      <td>-0.263194</td>\n",
       "      <td>-0.367355</td>\n",
       "      <td>-0.211113</td>\n",
       "      <td>-0.126899</td>\n",
       "      <td>-0.531352</td>\n",
       "      <td>-1.084290</td>\n",
       "      <td>-0.495894</td>\n",
       "      <td>0.196663</td>\n",
       "    </tr>\n",
       "    <tr>\n",
       "      <th>4</th>\n",
       "      <td>0.100814</td>\n",
       "      <td>0.511915</td>\n",
       "      <td>0.788385</td>\n",
       "      <td>0.787830</td>\n",
       "      <td>1.223311</td>\n",
       "      <td>1.598398</td>\n",
       "      <td>1.904232</td>\n",
       "      <td>1.426090</td>\n",
       "      <td>1.469862</td>\n",
       "    </tr>\n",
       "    <tr>\n",
       "      <th>5</th>\n",
       "      <td>0.817195</td>\n",
       "      <td>0.641009</td>\n",
       "      <td>0.605549</td>\n",
       "      <td>0.963464</td>\n",
       "      <td>0.784506</td>\n",
       "      <td>1.231067</td>\n",
       "      <td>0.833263</td>\n",
       "      <td>1.020530</td>\n",
       "      <td>0.702507</td>\n",
       "    </tr>\n",
       "    <tr>\n",
       "      <th>6</th>\n",
       "      <td>0.226029</td>\n",
       "      <td>-0.024955</td>\n",
       "      <td>-0.112493</td>\n",
       "      <td>-0.270397</td>\n",
       "      <td>-0.575675</td>\n",
       "      <td>-0.186735</td>\n",
       "      <td>-0.764604</td>\n",
       "      <td>-0.331342</td>\n",
       "      <td>-0.216654</td>\n",
       "    </tr>\n",
       "  </tbody>\n",
       "</table>\n",
       "</div>"
      ],
      "text/plain": [
       "          0         1         2         3         4         5         6  \\\n",
       "0  2.471019  2.319211  2.210621  2.780732  0.819964  0.303041 -0.022184   \n",
       "1 -0.334666 -0.076481 -0.047669 -0.306964 -1.393446 -1.529741 -1.685982   \n",
       "2 -1.463257 -1.693185 -1.998465 -1.802332 -1.803994 -1.982397 -1.800670   \n",
       "3 -0.424421 -0.263194 -0.367355 -0.211113 -0.126899 -0.531352 -1.084290   \n",
       "4  0.100814  0.511915  0.788385  0.787830  1.223311  1.598398  1.904232   \n",
       "5  0.817195  0.641009  0.605549  0.963464  0.784506  1.231067  0.833263   \n",
       "6  0.226029 -0.024955 -0.112493 -0.270397 -0.575675 -0.186735 -0.764604   \n",
       "\n",
       "          7         8  \n",
       "0 -0.437718 -0.392840  \n",
       "1 -1.730860 -1.495945  \n",
       "2 -2.153597 -0.342977  \n",
       "3 -0.495894  0.196663  \n",
       "4  1.426090  1.469862  \n",
       "5  1.020530  0.702507  \n",
       "6 -0.331342 -0.216654  "
      ]
     },
     "execution_count": 23,
     "metadata": {},
     "output_type": "execute_result"
    }
   ],
   "source": [
    "# The first 23 columns (from 0 to 22) are inputs\n",
    "\n",
    "train_inputs = train[:,:9]\n",
    "\n",
    "\n",
    "pd.DataFrame(train_inputs, columns=np.arange(0,9,1))"
   ]
  },
  {
   "cell_type": "markdown",
   "metadata": {},
   "source": [
    "## Add one more dimension to make it ready for RNNs"
   ]
  },
  {
   "cell_type": "markdown",
   "metadata": {},
   "source": [
    "See here for more details: https://keras.io/layers/recurrent/, and https://shiva-verma.medium.com/understanding-input-and-output-shape-in-lstm-keras-c501ee95c65e\n"
   ]
  },
  {
   "cell_type": "code",
   "execution_count": 24,
   "metadata": {},
   "outputs": [
    {
     "data": {
      "text/plain": [
       "array([[ 2.47101917,  2.31921126,  2.21062051,  2.78073208,  0.81996433,\n",
       "         0.30304068, -0.02218373, -0.43771784, -0.39284032],\n",
       "       [-0.33466621, -0.0764808 , -0.04766938, -0.30696394, -1.39344627,\n",
       "        -1.52974101, -1.68598222, -1.7308598 , -1.49594502],\n",
       "       [-1.46325656, -1.69318509, -1.9984647 , -1.80233211, -1.80399419,\n",
       "        -1.98239688, -1.80067002, -2.15359677, -0.34297656],\n",
       "       [-0.4244213 , -0.26319384, -0.36735467, -0.21111346, -0.12689916,\n",
       "        -0.53135169, -1.08428967, -0.49589366,  0.19666318],\n",
       "       [ 0.10081442,  0.51191521,  0.78838507,  0.78783047,  1.22331109,\n",
       "         1.59839755,  1.90423176,  1.42609024,  1.46986199],\n",
       "       [ 0.81719482,  0.64100875,  0.60554901,  0.9634636 ,  0.78450631,\n",
       "         1.23106684,  0.83326258,  1.02053023,  0.70250697],\n",
       "       [ 0.22602925, -0.02495501, -0.11249342, -0.27039671, -0.57567466,\n",
       "        -0.18673535, -0.76460433, -0.33134205, -0.21665425]])"
      ]
     },
     "execution_count": 24,
     "metadata": {},
     "output_type": "execute_result"
    }
   ],
   "source": [
    "train_inputs"
   ]
  },
  {
   "cell_type": "code",
   "execution_count": 25,
   "metadata": {},
   "outputs": [
    {
     "data": {
      "text/plain": [
       "(7, 9)"
      ]
     },
     "execution_count": 25,
     "metadata": {},
     "output_type": "execute_result"
    }
   ],
   "source": [
    "train_inputs.shape "
   ]
  },
  {
   "cell_type": "code",
   "execution_count": 26,
   "metadata": {},
   "outputs": [
    {
     "data": {
      "text/plain": [
       "(7, 9, 1)"
      ]
     },
     "execution_count": 26,
     "metadata": {},
     "output_type": "execute_result"
    }
   ],
   "source": [
    "#Create an additional dimension for train\n",
    "\n",
    "train_x = train_inputs[:,:,np.newaxis]\n",
    "\n",
    "train_x.shape "
   ]
  },
  {
   "cell_type": "code",
   "execution_count": 27,
   "metadata": {},
   "outputs": [
    {
     "data": {
      "text/plain": [
       "array([[[ 2.47101917],\n",
       "        [ 2.31921126],\n",
       "        [ 2.21062051],\n",
       "        [ 2.78073208],\n",
       "        [ 0.81996433],\n",
       "        [ 0.30304068],\n",
       "        [-0.02218373],\n",
       "        [-0.43771784],\n",
       "        [-0.39284032]],\n",
       "\n",
       "       [[-0.33466621],\n",
       "        [-0.0764808 ],\n",
       "        [-0.04766938],\n",
       "        [-0.30696394],\n",
       "        [-1.39344627],\n",
       "        [-1.52974101],\n",
       "        [-1.68598222],\n",
       "        [-1.7308598 ],\n",
       "        [-1.49594502]],\n",
       "\n",
       "       [[-1.46325656],\n",
       "        [-1.69318509],\n",
       "        [-1.9984647 ],\n",
       "        [-1.80233211],\n",
       "        [-1.80399419],\n",
       "        [-1.98239688],\n",
       "        [-1.80067002],\n",
       "        [-2.15359677],\n",
       "        [-0.34297656]],\n",
       "\n",
       "       [[-0.4244213 ],\n",
       "        [-0.26319384],\n",
       "        [-0.36735467],\n",
       "        [-0.21111346],\n",
       "        [-0.12689916],\n",
       "        [-0.53135169],\n",
       "        [-1.08428967],\n",
       "        [-0.49589366],\n",
       "        [ 0.19666318]],\n",
       "\n",
       "       [[ 0.10081442],\n",
       "        [ 0.51191521],\n",
       "        [ 0.78838507],\n",
       "        [ 0.78783047],\n",
       "        [ 1.22331109],\n",
       "        [ 1.59839755],\n",
       "        [ 1.90423176],\n",
       "        [ 1.42609024],\n",
       "        [ 1.46986199]],\n",
       "\n",
       "       [[ 0.81719482],\n",
       "        [ 0.64100875],\n",
       "        [ 0.60554901],\n",
       "        [ 0.9634636 ],\n",
       "        [ 0.78450631],\n",
       "        [ 1.23106684],\n",
       "        [ 0.83326258],\n",
       "        [ 1.02053023],\n",
       "        [ 0.70250697]],\n",
       "\n",
       "       [[ 0.22602925],\n",
       "        [-0.02495501],\n",
       "        [-0.11249342],\n",
       "        [-0.27039671],\n",
       "        [-0.57567466],\n",
       "        [-0.18673535],\n",
       "        [-0.76460433],\n",
       "        [-0.33134205],\n",
       "        [-0.21665425]]])"
      ]
     },
     "execution_count": 27,
     "metadata": {},
     "output_type": "execute_result"
    }
   ],
   "source": [
    "train_x"
   ]
  },
  {
   "cell_type": "markdown",
   "metadata": {},
   "source": [
    "## Set the target"
   ]
  },
  {
   "cell_type": "code",
   "execution_count": 28,
   "metadata": {},
   "outputs": [
    {
     "data": {
      "text/html": [
       "<div>\n",
       "<style scoped>\n",
       "    .dataframe tbody tr th:only-of-type {\n",
       "        vertical-align: middle;\n",
       "    }\n",
       "\n",
       "    .dataframe tbody tr th {\n",
       "        vertical-align: top;\n",
       "    }\n",
       "\n",
       "    .dataframe thead th {\n",
       "        text-align: right;\n",
       "    }\n",
       "</style>\n",
       "<table border=\"1\" class=\"dataframe\">\n",
       "  <thead>\n",
       "    <tr style=\"text-align: right;\">\n",
       "      <th></th>\n",
       "      <th>9</th>\n",
       "    </tr>\n",
       "  </thead>\n",
       "  <tbody>\n",
       "    <tr>\n",
       "      <th>0</th>\n",
       "      <td>-0.423312</td>\n",
       "    </tr>\n",
       "    <tr>\n",
       "      <th>1</th>\n",
       "      <td>-1.681551</td>\n",
       "    </tr>\n",
       "    <tr>\n",
       "      <th>2</th>\n",
       "      <td>-0.571243</td>\n",
       "    </tr>\n",
       "    <tr>\n",
       "      <th>3</th>\n",
       "      <td>0.168961</td>\n",
       "    </tr>\n",
       "    <tr>\n",
       "      <th>4</th>\n",
       "      <td>1.521942</td>\n",
       "    </tr>\n",
       "    <tr>\n",
       "      <th>5</th>\n",
       "      <td>0.461499</td>\n",
       "    </tr>\n",
       "    <tr>\n",
       "      <th>6</th>\n",
       "      <td>-0.167343</td>\n",
       "    </tr>\n",
       "  </tbody>\n",
       "</table>\n",
       "</div>"
      ],
      "text/plain": [
       "          9\n",
       "0 -0.423312\n",
       "1 -1.681551\n",
       "2 -0.571243\n",
       "3  0.168961\n",
       "4  1.521942\n",
       "5  0.461499\n",
       "6 -0.167343"
      ]
     },
     "execution_count": 28,
     "metadata": {},
     "output_type": "execute_result"
    }
   ],
   "source": [
    "# The last column (9) is TARGET\n",
    "\n",
    "train_target = train[:,-1]\n",
    "\n",
    "\n",
    "pd.DataFrame(train_target, columns=['9'])"
   ]
  },
  {
   "cell_type": "markdown",
   "metadata": {},
   "source": [
    "## Repeat for TEST"
   ]
  },
  {
   "cell_type": "code",
   "execution_count": 29,
   "metadata": {},
   "outputs": [
    {
     "data": {
      "text/plain": [
       "(3, 10)"
      ]
     },
     "execution_count": 29,
     "metadata": {},
     "output_type": "execute_result"
    }
   ],
   "source": [
    "test.shape"
   ]
  },
  {
   "cell_type": "code",
   "execution_count": 30,
   "metadata": {},
   "outputs": [],
   "source": [
    "# The first 23 columns (from 0 to 22) are inputs\n",
    "\n",
    "test_inputs = test[:,:9]"
   ]
  },
  {
   "cell_type": "code",
   "execution_count": 31,
   "metadata": {},
   "outputs": [
    {
     "data": {
      "text/plain": [
       "(3, 9, 1)"
      ]
     },
     "execution_count": 31,
     "metadata": {},
     "output_type": "execute_result"
    }
   ],
   "source": [
    "#Create an additional dimension for test\n",
    "\n",
    "test_x = test_inputs[:,:,np.newaxis]\n",
    "\n",
    "test_x.shape "
   ]
  },
  {
   "cell_type": "code",
   "execution_count": 32,
   "metadata": {},
   "outputs": [
    {
     "data": {
      "text/html": [
       "<div>\n",
       "<style scoped>\n",
       "    .dataframe tbody tr th:only-of-type {\n",
       "        vertical-align: middle;\n",
       "    }\n",
       "\n",
       "    .dataframe tbody tr th {\n",
       "        vertical-align: top;\n",
       "    }\n",
       "\n",
       "    .dataframe thead th {\n",
       "        text-align: right;\n",
       "    }\n",
       "</style>\n",
       "<table border=\"1\" class=\"dataframe\">\n",
       "  <thead>\n",
       "    <tr style=\"text-align: right;\">\n",
       "      <th></th>\n",
       "      <th>9</th>\n",
       "    </tr>\n",
       "  </thead>\n",
       "  <tbody>\n",
       "    <tr>\n",
       "      <th>0</th>\n",
       "      <td>-0.085346</td>\n",
       "    </tr>\n",
       "    <tr>\n",
       "      <th>1</th>\n",
       "      <td>0.447093</td>\n",
       "    </tr>\n",
       "    <tr>\n",
       "      <th>2</th>\n",
       "      <td>0.915260</td>\n",
       "    </tr>\n",
       "  </tbody>\n",
       "</table>\n",
       "</div>"
      ],
      "text/plain": [
       "          9\n",
       "0 -0.085346\n",
       "1  0.447093\n",
       "2  0.915260"
      ]
     },
     "execution_count": 32,
     "metadata": {},
     "output_type": "execute_result"
    }
   ],
   "source": [
    "# The last column (23) is TARGET\n",
    "\n",
    "test_target = test[:,-1]\n",
    "\n",
    "\n",
    "pd.DataFrame(test_target, columns=['9'])"
   ]
  },
  {
   "cell_type": "code",
   "execution_count": 33,
   "metadata": {},
   "outputs": [],
   "source": [
    "performance = pd.DataFrame({\"model\":[], \"MSE\":[]})"
   ]
  },
  {
   "cell_type": "markdown",
   "metadata": {},
   "source": [
    "# A normal (cross-sectional) NN\n",
    "\n",
    "This model assumes that the data is NOT a time-series data set. It treats the data as cross-sectional and the columns being independent of each other."
   ]
  },
  {
   "cell_type": "code",
   "execution_count": 34,
   "metadata": {},
   "outputs": [
    {
     "name": "stdout",
     "output_type": "stream",
     "text": [
      "Epoch 1/100\n",
      "1/1 [==============================] - 0s 496ms/step - loss: 0.8830\n",
      "Epoch 2/100\n",
      "1/1 [==============================] - 0s 6ms/step - loss: 0.8516\n",
      "Epoch 3/100\n",
      "1/1 [==============================] - 0s 0s/step - loss: 0.8213\n",
      "Epoch 4/100\n",
      "1/1 [==============================] - 0s 0s/step - loss: 0.7916\n",
      "Epoch 5/100\n",
      "1/1 [==============================] - 0s 17ms/step - loss: 0.7628\n",
      "Epoch 6/100\n",
      "1/1 [==============================] - 0s 0s/step - loss: 0.7348\n",
      "Epoch 7/100\n",
      "1/1 [==============================] - 0s 17ms/step - loss: 0.7070\n",
      "Epoch 8/100\n",
      "1/1 [==============================] - 0s 16ms/step - loss: 0.6799\n",
      "Epoch 9/100\n",
      "1/1 [==============================] - 0s 0s/step - loss: 0.6537\n",
      "Epoch 10/100\n",
      "1/1 [==============================] - 0s 6ms/step - loss: 0.6278\n",
      "Epoch 11/100\n",
      "1/1 [==============================] - 0s 11ms/step - loss: 0.6025\n",
      "Epoch 12/100\n",
      "1/1 [==============================] - 0s 5ms/step - loss: 0.5780\n",
      "Epoch 13/100\n",
      "1/1 [==============================] - 0s 13ms/step - loss: 0.5542\n",
      "Epoch 14/100\n",
      "1/1 [==============================] - 0s 5ms/step - loss: 0.5312\n",
      "Epoch 15/100\n",
      "1/1 [==============================] - 0s 8ms/step - loss: 0.5090\n",
      "Epoch 16/100\n",
      "1/1 [==============================] - 0s 8ms/step - loss: 0.4874\n",
      "Epoch 17/100\n",
      "1/1 [==============================] - 0s 7ms/step - loss: 0.4666\n",
      "Epoch 18/100\n",
      "1/1 [==============================] - 0s 10ms/step - loss: 0.4466\n",
      "Epoch 19/100\n",
      "1/1 [==============================] - 0s 4ms/step - loss: 0.4271\n",
      "Epoch 20/100\n",
      "1/1 [==============================] - 0s 16ms/step - loss: 0.4086\n",
      "Epoch 21/100\n",
      "1/1 [==============================] - 0s 936us/step - loss: 0.3908\n",
      "Epoch 22/100\n",
      "1/1 [==============================] - 0s 17ms/step - loss: 0.3737\n",
      "Epoch 23/100\n",
      "1/1 [==============================] - 0s 0s/step - loss: 0.3572\n",
      "Epoch 24/100\n",
      "1/1 [==============================] - 0s 6ms/step - loss: 0.3413\n",
      "Epoch 25/100\n",
      "1/1 [==============================] - 0s 7ms/step - loss: 0.3261\n",
      "Epoch 26/100\n",
      "1/1 [==============================] - 0s 7ms/step - loss: 0.3118\n",
      "Epoch 27/100\n",
      "1/1 [==============================] - 0s 9ms/step - loss: 0.2981\n",
      "Epoch 28/100\n",
      "1/1 [==============================] - 0s 8ms/step - loss: 0.2850\n",
      "Epoch 29/100\n",
      "1/1 [==============================] - 0s 7ms/step - loss: 0.2724\n",
      "Epoch 30/100\n",
      "1/1 [==============================] - 0s 0s/step - loss: 0.2603\n",
      "Epoch 31/100\n",
      "1/1 [==============================] - 0s 19ms/step - loss: 0.2488\n",
      "Epoch 32/100\n",
      "1/1 [==============================] - 0s 0s/step - loss: 0.2377\n",
      "Epoch 33/100\n",
      "1/1 [==============================] - 0s 6ms/step - loss: 0.2272\n",
      "Epoch 34/100\n",
      "1/1 [==============================] - 0s 12ms/step - loss: 0.2171\n",
      "Epoch 35/100\n",
      "1/1 [==============================] - 0s 5ms/step - loss: 0.2074\n",
      "Epoch 36/100\n",
      "1/1 [==============================] - 0s 14ms/step - loss: 0.1982\n",
      "Epoch 37/100\n",
      "1/1 [==============================] - 0s 9ms/step - loss: 0.1891\n",
      "Epoch 38/100\n",
      "1/1 [==============================] - 0s 6ms/step - loss: 0.1805\n",
      "Epoch 39/100\n",
      "1/1 [==============================] - 0s 8ms/step - loss: 0.1722\n",
      "Epoch 40/100\n",
      "1/1 [==============================] - 0s 7ms/step - loss: 0.1643\n",
      "Epoch 41/100\n",
      "1/1 [==============================] - 0s 0s/step - loss: 0.1568\n",
      "Epoch 42/100\n",
      "1/1 [==============================] - 0s 20ms/step - loss: 0.1496\n",
      "Epoch 43/100\n",
      "1/1 [==============================] - 0s 12ms/step - loss: 0.1429\n",
      "Epoch 44/100\n",
      "1/1 [==============================] - 0s 7ms/step - loss: 0.1366\n",
      "Epoch 45/100\n",
      "1/1 [==============================] - 0s 12ms/step - loss: 0.1305\n",
      "Epoch 46/100\n",
      "1/1 [==============================] - 0s 5ms/step - loss: 0.1248\n",
      "Epoch 47/100\n",
      "1/1 [==============================] - 0s 8ms/step - loss: 0.1194\n",
      "Epoch 48/100\n",
      "1/1 [==============================] - 0s 8ms/step - loss: 0.1142\n",
      "Epoch 49/100\n",
      "1/1 [==============================] - 0s 8ms/step - loss: 0.1093\n",
      "Epoch 50/100\n",
      "1/1 [==============================] - 0s 2ms/step - loss: 0.1047\n",
      "Epoch 51/100\n",
      "1/1 [==============================] - 0s 16ms/step - loss: 0.1003\n",
      "Epoch 52/100\n",
      "1/1 [==============================] - 0s 3ms/step - loss: 0.0962\n",
      "Epoch 53/100\n",
      "1/1 [==============================] - 0s 6ms/step - loss: 0.0922\n",
      "Epoch 54/100\n",
      "1/1 [==============================] - 0s 13ms/step - loss: 0.0883\n",
      "Epoch 55/100\n",
      "1/1 [==============================] - 0s 5ms/step - loss: 0.0847\n",
      "Epoch 56/100\n",
      "1/1 [==============================] - 0s 9ms/step - loss: 0.0812\n",
      "Epoch 57/100\n",
      "1/1 [==============================] - 0s 8ms/step - loss: 0.0779\n",
      "Epoch 58/100\n",
      "1/1 [==============================] - 0s 0s/step - loss: 0.0748\n",
      "Epoch 59/100\n",
      "1/1 [==============================] - 0s 6ms/step - loss: 0.0718\n",
      "Epoch 60/100\n",
      "1/1 [==============================] - 0s 14ms/step - loss: 0.0689\n",
      "Epoch 61/100\n",
      "1/1 [==============================] - 0s 13ms/step - loss: 0.0662\n",
      "Epoch 62/100\n",
      "1/1 [==============================] - 0s 0s/step - loss: 0.0636\n",
      "Epoch 63/100\n",
      "1/1 [==============================] - 0s 18ms/step - loss: 0.0611\n",
      "Epoch 64/100\n",
      "1/1 [==============================] - 0s 3ms/step - loss: 0.0587\n",
      "Epoch 65/100\n",
      "1/1 [==============================] - 0s 12ms/step - loss: 0.0564\n",
      "Epoch 66/100\n",
      "1/1 [==============================] - 0s 2ms/step - loss: 0.0542\n",
      "Epoch 67/100\n",
      "1/1 [==============================] - 0s 6ms/step - loss: 0.0521\n",
      "Epoch 68/100\n",
      "1/1 [==============================] - 0s 4ms/step - loss: 0.0501\n",
      "Epoch 69/100\n",
      "1/1 [==============================] - 0s 5ms/step - loss: 0.0481\n",
      "Epoch 70/100\n",
      "1/1 [==============================] - 0s 2ms/step - loss: 0.0463\n",
      "Epoch 71/100\n",
      "1/1 [==============================] - 0s 6ms/step - loss: 0.0445\n",
      "Epoch 72/100\n",
      "1/1 [==============================] - 0s 6ms/step - loss: 0.0428\n",
      "Epoch 73/100\n",
      "1/1 [==============================] - 0s 6ms/step - loss: 0.0412\n",
      "Epoch 74/100\n",
      "1/1 [==============================] - 0s 7ms/step - loss: 0.0396\n",
      "Epoch 75/100\n",
      "1/1 [==============================] - 0s 6ms/step - loss: 0.0381\n",
      "Epoch 76/100\n",
      "1/1 [==============================] - 0s 10ms/step - loss: 0.0368\n",
      "Epoch 77/100\n",
      "1/1 [==============================] - 0s 5ms/step - loss: 0.0355\n",
      "Epoch 78/100\n",
      "1/1 [==============================] - 0s 10ms/step - loss: 0.0343\n",
      "Epoch 79/100\n",
      "1/1 [==============================] - 0s 7ms/step - loss: 0.0331\n",
      "Epoch 80/100\n",
      "1/1 [==============================] - 0s 10ms/step - loss: 0.0319\n",
      "Epoch 81/100\n",
      "1/1 [==============================] - 0s 3ms/step - loss: 0.0308\n",
      "Epoch 82/100\n",
      "1/1 [==============================] - 0s 13ms/step - loss: 0.0298\n",
      "Epoch 83/100\n",
      "1/1 [==============================] - 0s 3ms/step - loss: 0.0287\n",
      "Epoch 84/100\n",
      "1/1 [==============================] - 0s 11ms/step - loss: 0.0277\n",
      "Epoch 85/100\n",
      "1/1 [==============================] - 0s 2ms/step - loss: 0.0268\n",
      "Epoch 86/100\n",
      "1/1 [==============================] - 0s 5ms/step - loss: 0.0259\n",
      "Epoch 87/100\n",
      "1/1 [==============================] - 0s 4ms/step - loss: 0.0250\n",
      "Epoch 88/100\n",
      "1/1 [==============================] - 0s 6ms/step - loss: 0.0241\n",
      "Epoch 89/100\n",
      "1/1 [==============================] - 0s 8ms/step - loss: 0.0233\n",
      "Epoch 90/100\n",
      "1/1 [==============================] - 0s 6ms/step - loss: 0.0225\n",
      "Epoch 91/100\n",
      "1/1 [==============================] - 0s 7ms/step - loss: 0.0218\n",
      "Epoch 92/100\n",
      "1/1 [==============================] - 0s 5ms/step - loss: 0.0210\n",
      "Epoch 93/100\n",
      "1/1 [==============================] - 0s 8ms/step - loss: 0.0203\n",
      "Epoch 94/100\n",
      "1/1 [==============================] - 0s 6ms/step - loss: 0.0197\n",
      "Epoch 95/100\n",
      "1/1 [==============================] - 0s 7ms/step - loss: 0.0190\n",
      "Epoch 96/100\n",
      "1/1 [==============================] - 0s 6ms/step - loss: 0.0184\n",
      "Epoch 97/100\n",
      "1/1 [==============================] - 0s 9ms/step - loss: 0.0178\n",
      "Epoch 98/100\n",
      "1/1 [==============================] - 0s 6ms/step - loss: 0.0172\n",
      "Epoch 99/100\n",
      "1/1 [==============================] - 0s 9ms/step - loss: 0.0167\n",
      "Epoch 100/100\n",
      "1/1 [==============================] - 0s 5ms/step - loss: 0.0161\n"
     ]
    }
   ],
   "source": [
    "model = keras.models.Sequential([\n",
    "    keras.layers.Flatten(input_shape=[9, 1]),\n",
    "    keras.layers.Dense(23, activation='relu'),\n",
    "    keras.layers.Dense(1, activation=None)\n",
    "    \n",
    "])\n",
    "\n",
    "model.compile(loss=\"mse\", optimizer='Adam')\n",
    "\n",
    "history = model.fit(train_x, train_target, epochs=100)"
   ]
  },
  {
   "cell_type": "markdown",
   "metadata": {},
   "source": [
    "### Predictions"
   ]
  },
  {
   "cell_type": "code",
   "execution_count": 35,
   "metadata": {},
   "outputs": [
    {
     "name": "stdout",
     "output_type": "stream",
     "text": [
      "1/1 [==============================] - 0s 75ms/step\n"
     ]
    }
   ],
   "source": [
    "#Predict:\n",
    "y_pred = model.predict(test_x)"
   ]
  },
  {
   "cell_type": "code",
   "execution_count": 36,
   "metadata": {},
   "outputs": [],
   "source": [
    "# Remember, these are standardized values. \n",
    "\n",
    "comparison = pd.DataFrame()\n",
    "\n",
    "comparison['actual'] = scaler.inverse_transform([test_target]).flatten()\n",
    "comparison['predicted'] = scaler.inverse_transform(y_pred).flatten()"
   ]
  },
  {
   "cell_type": "code",
   "execution_count": 37,
   "metadata": {},
   "outputs": [
    {
     "data": {
      "text/html": [
       "<div>\n",
       "<style scoped>\n",
       "    .dataframe tbody tr th:only-of-type {\n",
       "        vertical-align: middle;\n",
       "    }\n",
       "\n",
       "    .dataframe tbody tr th {\n",
       "        vertical-align: top;\n",
       "    }\n",
       "\n",
       "    .dataframe thead th {\n",
       "        text-align: right;\n",
       "    }\n",
       "</style>\n",
       "<table border=\"1\" class=\"dataframe\">\n",
       "  <thead>\n",
       "    <tr style=\"text-align: right;\">\n",
       "      <th></th>\n",
       "      <th>actual</th>\n",
       "      <th>predicted</th>\n",
       "    </tr>\n",
       "  </thead>\n",
       "  <tbody>\n",
       "    <tr>\n",
       "      <th>0</th>\n",
       "      <td>487.519989</td>\n",
       "      <td>492.902466</td>\n",
       "    </tr>\n",
       "    <tr>\n",
       "      <th>1</th>\n",
       "      <td>497.130005</td>\n",
       "      <td>493.335205</td>\n",
       "    </tr>\n",
       "    <tr>\n",
       "      <th>2</th>\n",
       "      <td>505.579987</td>\n",
       "      <td>494.068665</td>\n",
       "    </tr>\n",
       "  </tbody>\n",
       "</table>\n",
       "</div>"
      ],
      "text/plain": [
       "       actual   predicted\n",
       "0  487.519989  492.902466\n",
       "1  497.130005  493.335205\n",
       "2  505.579987  494.068665"
      ]
     },
     "execution_count": 37,
     "metadata": {},
     "output_type": "execute_result"
    }
   ],
   "source": [
    "comparison"
   ]
  },
  {
   "cell_type": "code",
   "execution_count": 38,
   "metadata": {},
   "outputs": [],
   "source": [
    "MSE = mean_squared_error(comparison['actual'], comparison['predicted'])"
   ]
  },
  {
   "cell_type": "code",
   "execution_count": 39,
   "metadata": {},
   "outputs": [
    {
     "data": {
      "text/html": [
       "<div>\n",
       "<style scoped>\n",
       "    .dataframe tbody tr th:only-of-type {\n",
       "        vertical-align: middle;\n",
       "    }\n",
       "\n",
       "    .dataframe tbody tr th {\n",
       "        vertical-align: top;\n",
       "    }\n",
       "\n",
       "    .dataframe thead th {\n",
       "        text-align: right;\n",
       "    }\n",
       "</style>\n",
       "<table border=\"1\" class=\"dataframe\">\n",
       "  <thead>\n",
       "    <tr style=\"text-align: right;\">\n",
       "      <th></th>\n",
       "      <th>model</th>\n",
       "      <th>MSE</th>\n",
       "    </tr>\n",
       "  </thead>\n",
       "  <tbody>\n",
       "    <tr>\n",
       "      <th>0</th>\n",
       "      <td>Normal NN</td>\n",
       "      <td>58.627369</td>\n",
       "    </tr>\n",
       "  </tbody>\n",
       "</table>\n",
       "</div>"
      ],
      "text/plain": [
       "       model        MSE\n",
       "0  Normal NN  58.627369"
      ]
     },
     "execution_count": 39,
     "metadata": {},
     "output_type": "execute_result"
    }
   ],
   "source": [
    "performance = pd.concat([performance,pd.DataFrame({'model': 'Normal NN', 'MSE':MSE}, index=[0])])\n",
    "performance"
   ]
  },
  {
   "cell_type": "code",
   "execution_count": 40,
   "metadata": {},
   "outputs": [
    {
     "data": {
      "image/png": "[encoded data removed]",
      "text/plain": [
       "<Figure size 432x288 with 1 Axes>"
      ]
     },
     "metadata": {
      "needs_background": "light"
     },
     "output_type": "display_data"
    }
   ],
   "source": [
    "plt.plot(comparison['actual'], label = 'actual')\n",
    "plt.plot(comparison['predicted'], label = 'predicted')\n",
    "\n",
    "plt.legend()\n",
    "\n",
    "plt.show()"
   ]
  },
  {
   "cell_type": "markdown",
   "metadata": {},
   "source": [
    "# Simple RNN\n",
    "\n",
    "Simplest recurrent neural network"
   ]
  },
  {
   "cell_type": "code",
   "execution_count": 41,
   "metadata": {},
   "outputs": [],
   "source": [
    "model = keras.models.Sequential([\n",
    "    keras.layers.SimpleRNN(32, activation='relu', input_shape=[9, 1]),\n",
    "    keras.layers.Dense(1, activation=None)\n",
    "])"
   ]
  },
  {
   "cell_type": "code",
   "execution_count": 42,
   "metadata": {
    "scrolled": true
   },
   "outputs": [
    {
     "name": "stdout",
     "output_type": "stream",
     "text": [
      "Epoch 1/30\n",
      "1/1 [==============================] - 1s 867ms/step - loss: 0.5577\n",
      "Epoch 2/30\n",
      "1/1 [==============================] - 0s 6ms/step - loss: 0.5277\n",
      "Epoch 3/30\n",
      "1/1 [==============================] - 0s 13ms/step - loss: 0.4989\n",
      "Epoch 4/30\n",
      "1/1 [==============================] - 0s 15ms/step - loss: 0.4711\n",
      "Epoch 5/30\n",
      "1/1 [==============================] - 0s 7ms/step - loss: 0.4422\n",
      "Epoch 6/30\n",
      "1/1 [==============================] - 0s 5ms/step - loss: 0.4133\n",
      "Epoch 7/30\n",
      "1/1 [==============================] - 0s 18ms/step - loss: 0.3850\n",
      "Epoch 8/30\n",
      "1/1 [==============================] - 0s 13ms/step - loss: 0.3580\n",
      "Epoch 9/30\n",
      "1/1 [==============================] - 0s 7ms/step - loss: 0.3319\n",
      "Epoch 10/30\n",
      "1/1 [==============================] - 0s 16ms/step - loss: 0.3071\n",
      "Epoch 11/30\n",
      "1/1 [==============================] - 0s 11ms/step - loss: 0.2869\n",
      "Epoch 12/30\n",
      "1/1 [==============================] - 0s 7ms/step - loss: 0.2675\n",
      "Epoch 13/30\n",
      "1/1 [==============================] - 0s 11ms/step - loss: 0.2497\n",
      "Epoch 14/30\n",
      "1/1 [==============================] - 0s 5ms/step - loss: 0.2332\n",
      "Epoch 15/30\n",
      "1/1 [==============================] - 0s 17ms/step - loss: 0.2175\n",
      "Epoch 16/30\n",
      "1/1 [==============================] - 0s 14ms/step - loss: 0.2025\n",
      "Epoch 17/30\n",
      "1/1 [==============================] - 0s 4ms/step - loss: 0.1879\n",
      "Epoch 18/30\n",
      "1/1 [==============================] - 0s 3ms/step - loss: 0.1743\n",
      "Epoch 19/30\n",
      "1/1 [==============================] - 0s 15ms/step - loss: 0.1620\n",
      "Epoch 20/30\n",
      "1/1 [==============================] - 0s 0s/step - loss: 0.1504\n",
      "Epoch 21/30\n",
      "1/1 [==============================] - 0s 2ms/step - loss: 0.1395\n",
      "Epoch 22/30\n",
      "1/1 [==============================] - 0s 17ms/step - loss: 0.1293\n",
      "Epoch 23/30\n",
      "1/1 [==============================] - 0s 0s/step - loss: 0.1195\n",
      "Epoch 24/30\n",
      "1/1 [==============================] - 0s 17ms/step - loss: 0.1102\n",
      "Epoch 25/30\n",
      "1/1 [==============================] - 0s 0s/step - loss: 0.1013\n",
      "Epoch 26/30\n",
      "1/1 [==============================] - 0s 932us/step - loss: 0.0931\n",
      "Epoch 27/30\n",
      "1/1 [==============================] - 0s 15ms/step - loss: 0.0854\n",
      "Epoch 28/30\n",
      "1/1 [==============================] - 0s 0s/step - loss: 0.0781\n",
      "Epoch 29/30\n",
      "1/1 [==============================] - 0s 21ms/step - loss: 0.0713\n",
      "Epoch 30/30\n",
      "1/1 [==============================] - 0s 10ms/step - loss: 0.0649\n"
     ]
    }
   ],
   "source": [
    "np.random.seed(42)\n",
    "tf.random.set_seed(42)\n",
    "\n",
    "model.compile(loss=\"mse\", optimizer='Adam')\n",
    "\n",
    "history = model.fit(train_x, train_target, epochs=30)"
   ]
  },
  {
   "cell_type": "markdown",
   "metadata": {},
   "source": [
    "### Predictions"
   ]
  },
  {
   "cell_type": "code",
   "execution_count": 43,
   "metadata": {},
   "outputs": [
    {
     "name": "stdout",
     "output_type": "stream",
     "text": [
      "1/1 [==============================] - 0s 128ms/step\n"
     ]
    }
   ],
   "source": [
    "#Predict:\n",
    "y_pred = model.predict(test_x)"
   ]
  },
  {
   "cell_type": "code",
   "execution_count": 44,
   "metadata": {},
   "outputs": [],
   "source": [
    "#Remember, these are standardized values. \n",
    "\n",
    "comparison = pd.DataFrame()\n",
    "\n",
    "comparison['actual'] = scaler.inverse_transform([test_target]).flatten()\n",
    "comparison['predicted'] = scaler.inverse_transform(y_pred).flatten()"
   ]
  },
  {
   "cell_type": "code",
   "execution_count": 45,
   "metadata": {},
   "outputs": [
    {
     "data": {
      "text/html": [
       "<div>\n",
       "<style scoped>\n",
       "    .dataframe tbody tr th:only-of-type {\n",
       "        vertical-align: middle;\n",
       "    }\n",
       "\n",
       "    .dataframe tbody tr th {\n",
       "        vertical-align: top;\n",
       "    }\n",
       "\n",
       "    .dataframe thead th {\n",
       "        text-align: right;\n",
       "    }\n",
       "</style>\n",
       "<table border=\"1\" class=\"dataframe\">\n",
       "  <thead>\n",
       "    <tr style=\"text-align: right;\">\n",
       "      <th></th>\n",
       "      <th>actual</th>\n",
       "      <th>predicted</th>\n",
       "    </tr>\n",
       "  </thead>\n",
       "  <tbody>\n",
       "    <tr>\n",
       "      <th>0</th>\n",
       "      <td>487.519989</td>\n",
       "      <td>491.865662</td>\n",
       "    </tr>\n",
       "    <tr>\n",
       "      <th>1</th>\n",
       "      <td>497.130005</td>\n",
       "      <td>495.997009</td>\n",
       "    </tr>\n",
       "    <tr>\n",
       "      <th>2</th>\n",
       "      <td>505.579987</td>\n",
       "      <td>495.482025</td>\n",
       "    </tr>\n",
       "  </tbody>\n",
       "</table>\n",
       "</div>"
      ],
      "text/plain": [
       "       actual   predicted\n",
       "0  487.519989  491.865662\n",
       "1  497.130005  495.997009\n",
       "2  505.579987  495.482025"
      ]
     },
     "execution_count": 45,
     "metadata": {},
     "output_type": "execute_result"
    }
   ],
   "source": [
    "comparison"
   ]
  },
  {
   "cell_type": "code",
   "execution_count": 46,
   "metadata": {},
   "outputs": [],
   "source": [
    "MSE = mean_squared_error(comparison['actual'], comparison['predicted'])"
   ]
  },
  {
   "cell_type": "code",
   "execution_count": 47,
   "metadata": {},
   "outputs": [
    {
     "data": {
      "text/html": [
       "<div>\n",
       "<style scoped>\n",
       "    .dataframe tbody tr th:only-of-type {\n",
       "        vertical-align: middle;\n",
       "    }\n",
       "\n",
       "    .dataframe tbody tr th {\n",
       "        vertical-align: top;\n",
       "    }\n",
       "\n",
       "    .dataframe thead th {\n",
       "        text-align: right;\n",
       "    }\n",
       "</style>\n",
       "<table border=\"1\" class=\"dataframe\">\n",
       "  <thead>\n",
       "    <tr style=\"text-align: right;\">\n",
       "      <th></th>\n",
       "      <th>model</th>\n",
       "      <th>MSE</th>\n",
       "    </tr>\n",
       "  </thead>\n",
       "  <tbody>\n",
       "    <tr>\n",
       "      <th>0</th>\n",
       "      <td>Normal NN</td>\n",
       "      <td>58.627369</td>\n",
       "    </tr>\n",
       "    <tr>\n",
       "      <th>0</th>\n",
       "      <td>simple RNN</td>\n",
       "      <td>40.712461</td>\n",
       "    </tr>\n",
       "  </tbody>\n",
       "</table>\n",
       "</div>"
      ],
      "text/plain": [
       "        model        MSE\n",
       "0   Normal NN  58.627369\n",
       "0  simple RNN  40.712461"
      ]
     },
     "execution_count": 47,
     "metadata": {},
     "output_type": "execute_result"
    }
   ],
   "source": [
    "performance = pd.concat([performance,pd.DataFrame({'model': 'simple RNN', 'MSE':MSE}, index=[0])])\n",
    "performance"
   ]
  },
  {
   "cell_type": "code",
   "execution_count": 48,
   "metadata": {},
   "outputs": [
    {
     "data": {
      "image/png": "[encoded data removed]",
      "text/plain": [
       "<Figure size 432x288 with 1 Axes>"
      ]
     },
     "metadata": {
      "needs_background": "light"
     },
     "output_type": "display_data"
    }
   ],
   "source": [
    "plt.plot(comparison['actual'], label = 'actual')\n",
    "plt.plot(comparison['predicted'], label = 'predicted')\n",
    "\n",
    "plt.legend()\n",
    "\n",
    "plt.show()"
   ]
  },
  {
   "cell_type": "markdown",
   "metadata": {},
   "source": [
    "## Simple RNN with more layers\n",
    "\n",
    "**Be careful: when stacking RNN layers, you have to set \"return_sequences\" to True. This enables the layer to send a \"sequence\" of values to the next layer -- jut like how it uses a sequence of values for training. However, if the output of RNN is sent to a DENSE layer, then a single value should be sent. That's why there is no \"return sequences\" right before DENSE layers.**"
   ]
  },
  {
   "cell_type": "code",
   "execution_count": 49,
   "metadata": {},
   "outputs": [],
   "source": [
    "model = keras.models.Sequential([\n",
    "    keras.layers.SimpleRNN(32, activation='relu', return_sequences=True, input_shape=[9, 1]),\n",
    "    keras.layers.SimpleRNN(32, activation='relu', return_sequences=False),\n",
    "    keras.layers.Dense(1, activation=None)\n",
    "])"
   ]
  },
  {
   "cell_type": "code",
   "execution_count": 50,
   "metadata": {
    "scrolled": true
   },
   "outputs": [
    {
     "name": "stdout",
     "output_type": "stream",
     "text": [
      "Epoch 1/30\n",
      "1/1 [==============================] - 2s 2s/step - loss: 1.9125\n",
      "Epoch 2/30\n",
      "1/1 [==============================] - 0s 12ms/step - loss: 1.6542\n",
      "Epoch 3/30\n",
      "1/1 [==============================] - 0s 10ms/step - loss: 1.4588\n",
      "Epoch 4/30\n",
      "1/1 [==============================] - 0s 15ms/step - loss: 1.2944\n",
      "Epoch 5/30\n",
      "1/1 [==============================] - 0s 3ms/step - loss: 1.1595\n",
      "Epoch 6/30\n",
      "1/1 [==============================] - 0s 4ms/step - loss: 1.0615\n",
      "Epoch 7/30\n",
      "1/1 [==============================] - 0s 19ms/step - loss: 0.9797\n",
      "Epoch 8/30\n",
      "1/1 [==============================] - 0s 19ms/step - loss: 0.9063\n",
      "Epoch 9/30\n",
      "1/1 [==============================] - 0s 16ms/step - loss: 0.8428\n",
      "Epoch 10/30\n",
      "1/1 [==============================] - 0s 12ms/step - loss: 0.7933\n",
      "Epoch 11/30\n",
      "1/1 [==============================] - 0s 10ms/step - loss: 0.7483\n",
      "Epoch 12/30\n",
      "1/1 [==============================] - 0s 12ms/step - loss: 0.7077\n",
      "Epoch 13/30\n",
      "1/1 [==============================] - 0s 13ms/step - loss: 0.6695\n",
      "Epoch 14/30\n",
      "1/1 [==============================] - 0s 13ms/step - loss: 0.6295\n",
      "Epoch 15/30\n",
      "1/1 [==============================] - 0s 15ms/step - loss: 0.5900\n",
      "Epoch 16/30\n",
      "1/1 [==============================] - 0s 16ms/step - loss: 0.5512\n",
      "Epoch 17/30\n",
      "1/1 [==============================] - 0s 17ms/step - loss: 0.5151\n",
      "Epoch 18/30\n",
      "1/1 [==============================] - 0s 0s/step - loss: 0.4839\n",
      "Epoch 19/30\n",
      "1/1 [==============================] - 0s 16ms/step - loss: 0.4577\n",
      "Epoch 20/30\n",
      "1/1 [==============================] - 0s 17ms/step - loss: 0.4316\n",
      "Epoch 21/30\n",
      "1/1 [==============================] - 0s 0s/step - loss: 0.4056\n",
      "Epoch 22/30\n",
      "1/1 [==============================] - 0s 0s/step - loss: 0.3810\n",
      "Epoch 23/30\n",
      "1/1 [==============================] - 0s 17ms/step - loss: 0.3579\n",
      "Epoch 24/30\n",
      "1/1 [==============================] - 0s 16ms/step - loss: 0.3361\n",
      "Epoch 25/30\n",
      "1/1 [==============================] - 0s 17ms/step - loss: 0.3153\n",
      "Epoch 26/30\n",
      "1/1 [==============================] - 0s 0s/step - loss: 0.2956\n",
      "Epoch 27/30\n",
      "1/1 [==============================] - 0s 2ms/step - loss: 0.2771\n",
      "Epoch 28/30\n",
      "1/1 [==============================] - 0s 17ms/step - loss: 0.2610\n",
      "Epoch 29/30\n",
      "1/1 [==============================] - 0s 17ms/step - loss: 0.2456\n",
      "Epoch 30/30\n",
      "1/1 [==============================] - 0s 17ms/step - loss: 0.2308\n"
     ]
    }
   ],
   "source": [
    "np.random.seed(42)\n",
    "tf.random.set_seed(42)\n",
    "\n",
    "model.compile(loss=\"mse\", optimizer='Adam')\n",
    "\n",
    "history = model.fit(train_x, train_target, epochs=30)"
   ]
  },
  {
   "cell_type": "markdown",
   "metadata": {},
   "source": [
    "### Predictions"
   ]
  },
  {
   "cell_type": "code",
   "execution_count": 51,
   "metadata": {},
   "outputs": [
    {
     "name": "stdout",
     "output_type": "stream",
     "text": [
      "1/1 [==============================] - 0s 212ms/step\n"
     ]
    }
   ],
   "source": [
    "#Predict:\n",
    "y_pred = model.predict(test_x)\n"
   ]
  },
  {
   "cell_type": "code",
   "execution_count": 52,
   "metadata": {},
   "outputs": [],
   "source": [
    "#Remember, these are standardized values. \n",
    "\n",
    "comparison = pd.DataFrame()\n",
    "\n",
    "comparison['actual'] = scaler.inverse_transform([test_target]).flatten()\n",
    "comparison['predicted'] = scaler.inverse_transform(y_pred).flatten()"
   ]
  },
  {
   "cell_type": "code",
   "execution_count": 53,
   "metadata": {},
   "outputs": [
    {
     "data": {
      "text/html": [
       "<div>\n",
       "<style scoped>\n",
       "    .dataframe tbody tr th:only-of-type {\n",
       "        vertical-align: middle;\n",
       "    }\n",
       "\n",
       "    .dataframe tbody tr th {\n",
       "        vertical-align: top;\n",
       "    }\n",
       "\n",
       "    .dataframe thead th {\n",
       "        text-align: right;\n",
       "    }\n",
       "</style>\n",
       "<table border=\"1\" class=\"dataframe\">\n",
       "  <thead>\n",
       "    <tr style=\"text-align: right;\">\n",
       "      <th></th>\n",
       "      <th>actual</th>\n",
       "      <th>predicted</th>\n",
       "    </tr>\n",
       "  </thead>\n",
       "  <tbody>\n",
       "    <tr>\n",
       "      <th>0</th>\n",
       "      <td>487.519989</td>\n",
       "      <td>488.505005</td>\n",
       "    </tr>\n",
       "    <tr>\n",
       "      <th>1</th>\n",
       "      <td>497.130005</td>\n",
       "      <td>492.837158</td>\n",
       "    </tr>\n",
       "    <tr>\n",
       "      <th>2</th>\n",
       "      <td>505.579987</td>\n",
       "      <td>492.184998</td>\n",
       "    </tr>\n",
       "  </tbody>\n",
       "</table>\n",
       "</div>"
      ],
      "text/plain": [
       "       actual   predicted\n",
       "0  487.519989  488.505005\n",
       "1  497.130005  492.837158\n",
       "2  505.579987  492.184998"
      ]
     },
     "execution_count": 53,
     "metadata": {},
     "output_type": "execute_result"
    }
   ],
   "source": [
    "comparison"
   ]
  },
  {
   "cell_type": "code",
   "execution_count": 54,
   "metadata": {},
   "outputs": [],
   "source": [
    "MSE = mean_squared_error(comparison['actual'], comparison['predicted'])"
   ]
  },
  {
   "cell_type": "code",
   "execution_count": 55,
   "metadata": {},
   "outputs": [
    {
     "data": {
      "text/html": [
       "<div>\n",
       "<style scoped>\n",
       "    .dataframe tbody tr th:only-of-type {\n",
       "        vertical-align: middle;\n",
       "    }\n",
       "\n",
       "    .dataframe tbody tr th {\n",
       "        vertical-align: top;\n",
       "    }\n",
       "\n",
       "    .dataframe thead th {\n",
       "        text-align: right;\n",
       "    }\n",
       "</style>\n",
       "<table border=\"1\" class=\"dataframe\">\n",
       "  <thead>\n",
       "    <tr style=\"text-align: right;\">\n",
       "      <th></th>\n",
       "      <th>model</th>\n",
       "      <th>MSE</th>\n",
       "    </tr>\n",
       "  </thead>\n",
       "  <tbody>\n",
       "    <tr>\n",
       "      <th>0</th>\n",
       "      <td>Normal NN</td>\n",
       "      <td>58.627369</td>\n",
       "    </tr>\n",
       "    <tr>\n",
       "      <th>0</th>\n",
       "      <td>simple RNN</td>\n",
       "      <td>40.712461</td>\n",
       "    </tr>\n",
       "    <tr>\n",
       "      <th>0</th>\n",
       "      <td>simple RNN with more layers</td>\n",
       "      <td>66.274844</td>\n",
       "    </tr>\n",
       "  </tbody>\n",
       "</table>\n",
       "</div>"
      ],
      "text/plain": [
       "                         model        MSE\n",
       "0                    Normal NN  58.627369\n",
       "0                   simple RNN  40.712461\n",
       "0  simple RNN with more layers  66.274844"
      ]
     },
     "execution_count": 55,
     "metadata": {},
     "output_type": "execute_result"
    }
   ],
   "source": [
    "performance = pd.concat([performance,pd.DataFrame({'model': 'simple RNN with more layers', 'MSE':MSE}, index=[0])])\n",
    "performance"
   ]
  },
  {
   "cell_type": "code",
   "execution_count": 56,
   "metadata": {},
   "outputs": [
    {
     "data": {
      "image/png": "[encoded data removed]",
      "text/plain": [
       "<Figure size 432x288 with 1 Axes>"
      ]
     },
     "metadata": {
      "needs_background": "light"
     },
     "output_type": "display_data"
    }
   ],
   "source": [
    "plt.plot(comparison['actual'], label = 'actual')\n",
    "plt.plot(comparison['predicted'], label = 'predicted')\n",
    "\n",
    "plt.legend()\n",
    "\n",
    "plt.show()"
   ]
  },
  {
   "cell_type": "markdown",
   "metadata": {},
   "source": [
    "# LSTM with one layer"
   ]
  },
  {
   "cell_type": "code",
   "execution_count": 57,
   "metadata": {
    "scrolled": true
   },
   "outputs": [],
   "source": [
    "model = keras.models.Sequential([\n",
    "    keras.layers.LSTM(32, activation='relu', input_shape=[9, 1]),\n",
    "    keras.layers.Dense(1, activation=None)\n",
    "])"
   ]
  },
  {
   "cell_type": "code",
   "execution_count": 58,
   "metadata": {
    "scrolled": true
   },
   "outputs": [
    {
     "name": "stdout",
     "output_type": "stream",
     "text": [
      "Epoch 1/30\n",
      "1/1 [==============================] - 1s 1s/step - loss: 0.7564\n",
      "Epoch 2/30\n",
      "1/1 [==============================] - 0s 4ms/step - loss: 0.7409\n",
      "Epoch 3/30\n",
      "1/1 [==============================] - 0s 0s/step - loss: 0.7256\n",
      "Epoch 4/30\n",
      "1/1 [==============================] - 0s 966us/step - loss: 0.7105\n",
      "Epoch 5/30\n",
      "1/1 [==============================] - 0s 22ms/step - loss: 0.6957\n",
      "Epoch 6/30\n",
      "1/1 [==============================] - 0s 17ms/step - loss: 0.6812\n",
      "Epoch 7/30\n",
      "1/1 [==============================] - 0s 19ms/step - loss: 0.6670\n",
      "Epoch 8/30\n",
      "1/1 [==============================] - 0s 17ms/step - loss: 0.6530\n",
      "Epoch 9/30\n",
      "1/1 [==============================] - 0s 17ms/step - loss: 0.6394\n",
      "Epoch 10/30\n",
      "1/1 [==============================] - 0s 18ms/step - loss: 0.6259\n",
      "Epoch 11/30\n",
      "1/1 [==============================] - 0s 16ms/step - loss: 0.6128\n",
      "Epoch 12/30\n",
      "1/1 [==============================] - 0s 17ms/step - loss: 0.5998\n",
      "Epoch 13/30\n",
      "1/1 [==============================] - 0s 15ms/step - loss: 0.5871\n",
      "Epoch 14/30\n",
      "1/1 [==============================] - 0s 13ms/step - loss: 0.5745\n",
      "Epoch 15/30\n",
      "1/1 [==============================] - 0s 12ms/step - loss: 0.5622\n",
      "Epoch 16/30\n",
      "1/1 [==============================] - 0s 13ms/step - loss: 0.5500\n",
      "Epoch 17/30\n",
      "1/1 [==============================] - 0s 13ms/step - loss: 0.5380\n",
      "Epoch 18/30\n",
      "1/1 [==============================] - 0s 3ms/step - loss: 0.5261\n",
      "Epoch 19/30\n",
      "1/1 [==============================] - 0s 7ms/step - loss: 0.5145\n",
      "Epoch 20/30\n",
      "1/1 [==============================] - 0s 15ms/step - loss: 0.5030\n",
      "Epoch 21/30\n",
      "1/1 [==============================] - 0s 11ms/step - loss: 0.4918\n",
      "Epoch 22/30\n",
      "1/1 [==============================] - 0s 4ms/step - loss: 0.4808\n",
      "Epoch 23/30\n",
      "1/1 [==============================] - 0s 8ms/step - loss: 0.4703\n",
      "Epoch 24/30\n",
      "1/1 [==============================] - 0s 13ms/step - loss: 0.4599\n",
      "Epoch 25/30\n",
      "1/1 [==============================] - 0s 9ms/step - loss: 0.4498\n",
      "Epoch 26/30\n",
      "1/1 [==============================] - 0s 5ms/step - loss: 0.4400\n",
      "Epoch 27/30\n",
      "1/1 [==============================] - 0s 17ms/step - loss: 0.4304\n",
      "Epoch 28/30\n",
      "1/1 [==============================] - 0s 11ms/step - loss: 0.4212\n",
      "Epoch 29/30\n",
      "1/1 [==============================] - 0s 4ms/step - loss: 0.4120\n",
      "Epoch 30/30\n",
      "1/1 [==============================] - 0s 9ms/step - loss: 0.4030\n"
     ]
    }
   ],
   "source": [
    "np.random.seed(42)\n",
    "tf.random.set_seed(42)\n",
    "\n",
    "model.compile(loss=\"mse\", optimizer='Adam')\n",
    "\n",
    "history = model.fit(train_x, train_target, epochs=30)"
   ]
  },
  {
   "cell_type": "markdown",
   "metadata": {},
   "source": [
    "### Predictions"
   ]
  },
  {
   "cell_type": "code",
   "execution_count": 59,
   "metadata": {},
   "outputs": [
    {
     "name": "stdout",
     "output_type": "stream",
     "text": [
      "1/1 [==============================] - 0s 140ms/step\n"
     ]
    }
   ],
   "source": [
    "#Predict:\n",
    "y_pred = model.predict(test_x)\n"
   ]
  },
  {
   "cell_type": "code",
   "execution_count": 60,
   "metadata": {},
   "outputs": [],
   "source": [
    "#Remember, these are standardized values. \n",
    "\n",
    "comparison = pd.DataFrame()\n",
    "\n",
    "comparison['actual'] = scaler.inverse_transform([test_target]).flatten()\n",
    "comparison['predicted'] = scaler.inverse_transform(y_pred).flatten()"
   ]
  },
  {
   "cell_type": "code",
   "execution_count": 61,
   "metadata": {},
   "outputs": [
    {
     "data": {
      "text/html": [
       "<div>\n",
       "<style scoped>\n",
       "    .dataframe tbody tr th:only-of-type {\n",
       "        vertical-align: middle;\n",
       "    }\n",
       "\n",
       "    .dataframe tbody tr th {\n",
       "        vertical-align: top;\n",
       "    }\n",
       "\n",
       "    .dataframe thead th {\n",
       "        text-align: right;\n",
       "    }\n",
       "</style>\n",
       "<table border=\"1\" class=\"dataframe\">\n",
       "  <thead>\n",
       "    <tr style=\"text-align: right;\">\n",
       "      <th></th>\n",
       "      <th>actual</th>\n",
       "      <th>predicted</th>\n",
       "    </tr>\n",
       "  </thead>\n",
       "  <tbody>\n",
       "    <tr>\n",
       "      <th>0</th>\n",
       "      <td>487.519989</td>\n",
       "      <td>486.659729</td>\n",
       "    </tr>\n",
       "    <tr>\n",
       "      <th>1</th>\n",
       "      <td>497.130005</td>\n",
       "      <td>491.172760</td>\n",
       "    </tr>\n",
       "    <tr>\n",
       "      <th>2</th>\n",
       "      <td>505.579987</td>\n",
       "      <td>491.302338</td>\n",
       "    </tr>\n",
       "  </tbody>\n",
       "</table>\n",
       "</div>"
      ],
      "text/plain": [
       "       actual   predicted\n",
       "0  487.519989  486.659729\n",
       "1  497.130005  491.172760\n",
       "2  505.579987  491.302338"
      ]
     },
     "execution_count": 61,
     "metadata": {},
     "output_type": "execute_result"
    }
   ],
   "source": [
    "comparison"
   ]
  },
  {
   "cell_type": "code",
   "execution_count": 62,
   "metadata": {},
   "outputs": [],
   "source": [
    "MSE = mean_squared_error(comparison['actual'], comparison['predicted'])"
   ]
  },
  {
   "cell_type": "code",
   "execution_count": 63,
   "metadata": {},
   "outputs": [
    {
     "data": {
      "text/html": [
       "<div>\n",
       "<style scoped>\n",
       "    .dataframe tbody tr th:only-of-type {\n",
       "        vertical-align: middle;\n",
       "    }\n",
       "\n",
       "    .dataframe tbody tr th {\n",
       "        vertical-align: top;\n",
       "    }\n",
       "\n",
       "    .dataframe thead th {\n",
       "        text-align: right;\n",
       "    }\n",
       "</style>\n",
       "<table border=\"1\" class=\"dataframe\">\n",
       "  <thead>\n",
       "    <tr style=\"text-align: right;\">\n",
       "      <th></th>\n",
       "      <th>model</th>\n",
       "      <th>MSE</th>\n",
       "    </tr>\n",
       "  </thead>\n",
       "  <tbody>\n",
       "    <tr>\n",
       "      <th>0</th>\n",
       "      <td>Normal NN</td>\n",
       "      <td>58.627369</td>\n",
       "    </tr>\n",
       "    <tr>\n",
       "      <th>0</th>\n",
       "      <td>simple RNN</td>\n",
       "      <td>40.712461</td>\n",
       "    </tr>\n",
       "    <tr>\n",
       "      <th>0</th>\n",
       "      <td>simple RNN with more layers</td>\n",
       "      <td>66.274844</td>\n",
       "    </tr>\n",
       "    <tr>\n",
       "      <th>0</th>\n",
       "      <td>LSTM RNN</td>\n",
       "      <td>80.026695</td>\n",
       "    </tr>\n",
       "  </tbody>\n",
       "</table>\n",
       "</div>"
      ],
      "text/plain": [
       "                         model        MSE\n",
       "0                    Normal NN  58.627369\n",
       "0                   simple RNN  40.712461\n",
       "0  simple RNN with more layers  66.274844\n",
       "0                     LSTM RNN  80.026695"
      ]
     },
     "execution_count": 63,
     "metadata": {},
     "output_type": "execute_result"
    }
   ],
   "source": [
    "performance = pd.concat([performance,pd.DataFrame({'model': 'LSTM RNN', 'MSE':MSE}, index=[0])])\n",
    "performance"
   ]
  },
  {
   "cell_type": "code",
   "execution_count": 64,
   "metadata": {},
   "outputs": [
    {
     "data": {
      "image/png": "[encoded data removed]",
      "text/plain": [
       "<Figure size 432x288 with 1 Axes>"
      ]
     },
     "metadata": {
      "needs_background": "light"
     },
     "output_type": "display_data"
    }
   ],
   "source": [
    "plt.plot(comparison['actual'], label = 'actual')\n",
    "plt.plot(comparison['predicted'], label = 'predicted')\n",
    "\n",
    "plt.legend()\n",
    "\n",
    "plt.show()"
   ]
  },
  {
   "cell_type": "markdown",
   "metadata": {},
   "source": [
    "# LSTM with more layers"
   ]
  },
  {
   "cell_type": "code",
   "execution_count": 65,
   "metadata": {
    "scrolled": true
   },
   "outputs": [],
   "source": [
    "model = keras.models.Sequential([\n",
    "    keras.layers.LSTM(32, activation='tanh', return_sequences=True, input_shape=[9, 1]),\n",
    "    keras.layers.LSTM(32, activation='tanh', return_sequences=False),\n",
    "    keras.layers.Dense(1, activation=None)\n",
    "])"
   ]
  },
  {
   "cell_type": "code",
   "execution_count": 66,
   "metadata": {
    "scrolled": true
   },
   "outputs": [
    {
     "name": "stdout",
     "output_type": "stream",
     "text": [
      "Epoch 1/30\n",
      "1/1 [==============================] - 3s 3s/step - loss: 0.8015\n",
      "Epoch 2/30\n",
      "1/1 [==============================] - 0s 16ms/step - loss: 0.7692\n",
      "Epoch 3/30\n",
      "1/1 [==============================] - 0s 17ms/step - loss: 0.7385\n",
      "Epoch 4/30\n",
      "1/1 [==============================] - 0s 23ms/step - loss: 0.7093\n",
      "Epoch 5/30\n",
      "1/1 [==============================] - 0s 15ms/step - loss: 0.6817\n",
      "Epoch 6/30\n",
      "1/1 [==============================] - 0s 19ms/step - loss: 0.6558\n",
      "Epoch 7/30\n",
      "1/1 [==============================] - 0s 18ms/step - loss: 0.6316\n",
      "Epoch 8/30\n",
      "1/1 [==============================] - 0s 16ms/step - loss: 0.6093\n",
      "Epoch 9/30\n",
      "1/1 [==============================] - 0s 18ms/step - loss: 0.5892\n",
      "Epoch 10/30\n",
      "1/1 [==============================] - 0s 19ms/step - loss: 0.5713\n",
      "Epoch 11/30\n",
      "1/1 [==============================] - 0s 18ms/step - loss: 0.5559\n",
      "Epoch 12/30\n",
      "1/1 [==============================] - 0s 20ms/step - loss: 0.5431\n",
      "Epoch 13/30\n",
      "1/1 [==============================] - 0s 19ms/step - loss: 0.5328\n",
      "Epoch 14/30\n",
      "1/1 [==============================] - 0s 15ms/step - loss: 0.5249\n",
      "Epoch 15/30\n",
      "1/1 [==============================] - 0s 17ms/step - loss: 0.5188\n",
      "Epoch 16/30\n",
      "1/1 [==============================] - 0s 17ms/step - loss: 0.5139\n",
      "Epoch 17/30\n",
      "1/1 [==============================] - 0s 17ms/step - loss: 0.5092\n",
      "Epoch 18/30\n",
      "1/1 [==============================] - 0s 17ms/step - loss: 0.5043\n",
      "Epoch 19/30\n",
      "1/1 [==============================] - 0s 16ms/step - loss: 0.4987\n",
      "Epoch 20/30\n",
      "1/1 [==============================] - 0s 17ms/step - loss: 0.4924\n",
      "Epoch 21/30\n",
      "1/1 [==============================] - 0s 17ms/step - loss: 0.4852\n",
      "Epoch 22/30\n",
      "1/1 [==============================] - 0s 17ms/step - loss: 0.4775\n",
      "Epoch 23/30\n",
      "1/1 [==============================] - 0s 17ms/step - loss: 0.4693\n",
      "Epoch 24/30\n",
      "1/1 [==============================] - 0s 16ms/step - loss: 0.4609\n",
      "Epoch 25/30\n",
      "1/1 [==============================] - 0s 17ms/step - loss: 0.4524\n",
      "Epoch 26/30\n",
      "1/1 [==============================] - 0s 17ms/step - loss: 0.4439\n",
      "Epoch 27/30\n",
      "1/1 [==============================] - 0s 2ms/step - loss: 0.4355\n",
      "Epoch 28/30\n",
      "1/1 [==============================] - 0s 18ms/step - loss: 0.4272\n",
      "Epoch 29/30\n",
      "1/1 [==============================] - 0s 17ms/step - loss: 0.4189\n",
      "Epoch 30/30\n",
      "1/1 [==============================] - 0s 16ms/step - loss: 0.4107\n"
     ]
    }
   ],
   "source": [
    "np.random.seed(42)\n",
    "tf.random.set_seed(42)\n",
    "\n",
    "model.compile(loss=\"mse\", optimizer='Adam')\n",
    "\n",
    "history = model.fit(train_x, train_target, epochs=30)"
   ]
  },
  {
   "cell_type": "markdown",
   "metadata": {},
   "source": [
    "### Predictions"
   ]
  },
  {
   "cell_type": "code",
   "execution_count": 67,
   "metadata": {},
   "outputs": [
    {
     "name": "stdout",
     "output_type": "stream",
     "text": [
      "WARNING:tensorflow:5 out of the last 5 calls to <function Model.make_predict_function.<locals>.predict_function at 0x000002075B7D0820> triggered tf.function retracing. Tracing is expensive and the excessive number of tracings could be due to (1) creating @tf.function repeatedly in a loop, (2) passing tensors with different shapes, (3) passing Python objects instead of tensors. For (1), please define your @tf.function outside of the loop. For (2), @tf.function has reduce_retracing=True option that can avoid unnecessary retracing. For (3), please refer to https://www.tensorflow.org/guide/function#controlling_retracing and https://www.tensorflow.org/api_docs/python/tf/function for  more details.\n",
      "1/1 [==============================] - 1s 670ms/step\n"
     ]
    }
   ],
   "source": [
    "#Predict:\n",
    "y_pred = model.predict(test_x)"
   ]
  },
  {
   "cell_type": "code",
   "execution_count": 68,
   "metadata": {},
   "outputs": [],
   "source": [
    "#Remember, these are standardized values. \n",
    "\n",
    "comparison = pd.DataFrame()\n",
    "\n",
    "comparison['actual'] = scaler.inverse_transform([test_target]).flatten()\n",
    "comparison['predicted'] = scaler.inverse_transform(y_pred).flatten()"
   ]
  },
  {
   "cell_type": "code",
   "execution_count": 69,
   "metadata": {},
   "outputs": [
    {
     "data": {
      "text/html": [
       "<div>\n",
       "<style scoped>\n",
       "    .dataframe tbody tr th:only-of-type {\n",
       "        vertical-align: middle;\n",
       "    }\n",
       "\n",
       "    .dataframe tbody tr th {\n",
       "        vertical-align: top;\n",
       "    }\n",
       "\n",
       "    .dataframe thead th {\n",
       "        text-align: right;\n",
       "    }\n",
       "</style>\n",
       "<table border=\"1\" class=\"dataframe\">\n",
       "  <thead>\n",
       "    <tr style=\"text-align: right;\">\n",
       "      <th></th>\n",
       "      <th>actual</th>\n",
       "      <th>predicted</th>\n",
       "    </tr>\n",
       "  </thead>\n",
       "  <tbody>\n",
       "    <tr>\n",
       "      <th>0</th>\n",
       "      <td>487.519989</td>\n",
       "      <td>485.339081</td>\n",
       "    </tr>\n",
       "    <tr>\n",
       "      <th>1</th>\n",
       "      <td>497.130005</td>\n",
       "      <td>491.381866</td>\n",
       "    </tr>\n",
       "    <tr>\n",
       "      <th>2</th>\n",
       "      <td>505.579987</td>\n",
       "      <td>491.962708</td>\n",
       "    </tr>\n",
       "  </tbody>\n",
       "</table>\n",
       "</div>"
      ],
      "text/plain": [
       "       actual   predicted\n",
       "0  487.519989  485.339081\n",
       "1  497.130005  491.381866\n",
       "2  505.579987  491.962708"
      ]
     },
     "execution_count": 69,
     "metadata": {},
     "output_type": "execute_result"
    }
   ],
   "source": [
    "comparison"
   ]
  },
  {
   "cell_type": "code",
   "execution_count": 70,
   "metadata": {},
   "outputs": [],
   "source": [
    "MSE = mean_squared_error(comparison['actual'], comparison['predicted'])"
   ]
  },
  {
   "cell_type": "code",
   "execution_count": 71,
   "metadata": {},
   "outputs": [
    {
     "data": {
      "text/html": [
       "<div>\n",
       "<style scoped>\n",
       "    .dataframe tbody tr th:only-of-type {\n",
       "        vertical-align: middle;\n",
       "    }\n",
       "\n",
       "    .dataframe tbody tr th {\n",
       "        vertical-align: top;\n",
       "    }\n",
       "\n",
       "    .dataframe thead th {\n",
       "        text-align: right;\n",
       "    }\n",
       "</style>\n",
       "<table border=\"1\" class=\"dataframe\">\n",
       "  <thead>\n",
       "    <tr style=\"text-align: right;\">\n",
       "      <th></th>\n",
       "      <th>model</th>\n",
       "      <th>MSE</th>\n",
       "    </tr>\n",
       "  </thead>\n",
       "  <tbody>\n",
       "    <tr>\n",
       "      <th>0</th>\n",
       "      <td>Normal NN</td>\n",
       "      <td>58.627369</td>\n",
       "    </tr>\n",
       "    <tr>\n",
       "      <th>0</th>\n",
       "      <td>simple RNN</td>\n",
       "      <td>40.712461</td>\n",
       "    </tr>\n",
       "    <tr>\n",
       "      <th>0</th>\n",
       "      <td>simple RNN with more layers</td>\n",
       "      <td>66.274844</td>\n",
       "    </tr>\n",
       "    <tr>\n",
       "      <th>0</th>\n",
       "      <td>LSTM RNN</td>\n",
       "      <td>80.026695</td>\n",
       "    </tr>\n",
       "    <tr>\n",
       "      <th>0</th>\n",
       "      <td>LSTM RNN with more layers</td>\n",
       "      <td>74.409253</td>\n",
       "    </tr>\n",
       "  </tbody>\n",
       "</table>\n",
       "</div>"
      ],
      "text/plain": [
       "                         model        MSE\n",
       "0                    Normal NN  58.627369\n",
       "0                   simple RNN  40.712461\n",
       "0  simple RNN with more layers  66.274844\n",
       "0                     LSTM RNN  80.026695\n",
       "0    LSTM RNN with more layers  74.409253"
      ]
     },
     "execution_count": 71,
     "metadata": {},
     "output_type": "execute_result"
    }
   ],
   "source": [
    "performance = pd.concat([performance,pd.DataFrame({'model': 'LSTM RNN with more layers', 'MSE':MSE}, index=[0])])\n",
    "performance"
   ]
  },
  {
   "cell_type": "code",
   "execution_count": 72,
   "metadata": {},
   "outputs": [
    {
     "data": {
      "image/png": "[encoded data removed]",
      "text/plain": [
       "<Figure size 432x288 with 1 Axes>"
      ]
     },
     "metadata": {
      "needs_background": "light"
     },
     "output_type": "display_data"
    }
   ],
   "source": [
    "plt.plot(comparison['actual'], label = 'actual')\n",
    "plt.plot(comparison['predicted'], label = 'predicted')\n",
    "\n",
    "plt.legend()\n",
    "\n",
    "plt.show()"
   ]
  },
  {
   "cell_type": "markdown",
   "metadata": {},
   "source": [
    "# GRU (with more layers)"
   ]
  },
  {
   "cell_type": "code",
   "execution_count": 73,
   "metadata": {
    "scrolled": false
   },
   "outputs": [],
   "source": [
    "model = keras.models.Sequential([\n",
    "    keras.layers.GRU(32, activation='relu', return_sequences=True, input_shape=[9, 1]),\n",
    "    keras.layers.GRU(32, activation='relu', return_sequences=False),\n",
    "    keras.layers.Dense(1, activation=None)\n",
    "])"
   ]
  },
  {
   "cell_type": "code",
   "execution_count": 74,
   "metadata": {
    "scrolled": true
   },
   "outputs": [
    {
     "name": "stdout",
     "output_type": "stream",
     "text": [
      "Epoch 1/30\n",
      "1/1 [==============================] - 2s 2s/step - loss: 0.8444\n",
      "Epoch 2/30\n",
      "1/1 [==============================] - 0s 16ms/step - loss: 0.7761\n",
      "Epoch 3/30\n",
      "1/1 [==============================] - 0s 16ms/step - loss: 0.7289\n",
      "Epoch 4/30\n",
      "1/1 [==============================] - 0s 4ms/step - loss: 0.6897\n",
      "Epoch 5/30\n",
      "1/1 [==============================] - 0s 17ms/step - loss: 0.6550\n",
      "Epoch 6/30\n",
      "1/1 [==============================] - 0s 16ms/step - loss: 0.6238\n",
      "Epoch 7/30\n",
      "1/1 [==============================] - 0s 17ms/step - loss: 0.5943\n",
      "Epoch 8/30\n",
      "1/1 [==============================] - 0s 17ms/step - loss: 0.5626\n",
      "Epoch 9/30\n",
      "1/1 [==============================] - 0s 17ms/step - loss: 0.5336\n",
      "Epoch 10/30\n",
      "1/1 [==============================] - 0s 17ms/step - loss: 0.5071\n",
      "Epoch 11/30\n",
      "1/1 [==============================] - 0s 19ms/step - loss: 0.4831\n",
      "Epoch 12/30\n",
      "1/1 [==============================] - 0s 17ms/step - loss: 0.4610\n",
      "Epoch 13/30\n",
      "1/1 [==============================] - 0s 13ms/step - loss: 0.4404\n",
      "Epoch 14/30\n",
      "1/1 [==============================] - 0s 18ms/step - loss: 0.4215\n",
      "Epoch 15/30\n",
      "1/1 [==============================] - 0s 17ms/step - loss: 0.4033\n",
      "Epoch 16/30\n",
      "1/1 [==============================] - 0s 17ms/step - loss: 0.3868\n",
      "Epoch 17/30\n",
      "1/1 [==============================] - 0s 17ms/step - loss: 0.3708\n",
      "Epoch 18/30\n",
      "1/1 [==============================] - 0s 17ms/step - loss: 0.3568\n",
      "Epoch 19/30\n",
      "1/1 [==============================] - 0s 16ms/step - loss: 0.3430\n",
      "Epoch 20/30\n",
      "1/1 [==============================] - 0s 17ms/step - loss: 0.3300\n",
      "Epoch 21/30\n",
      "1/1 [==============================] - 0s 17ms/step - loss: 0.3179\n",
      "Epoch 22/30\n",
      "1/1 [==============================] - 0s 17ms/step - loss: 0.3053\n",
      "Epoch 23/30\n",
      "1/1 [==============================] - 0s 17ms/step - loss: 0.2934\n",
      "Epoch 24/30\n",
      "1/1 [==============================] - 0s 17ms/step - loss: 0.2814\n",
      "Epoch 25/30\n",
      "1/1 [==============================] - 0s 17ms/step - loss: 0.2700\n",
      "Epoch 26/30\n",
      "1/1 [==============================] - 0s 17ms/step - loss: 0.2592\n",
      "Epoch 27/30\n",
      "1/1 [==============================] - 0s 17ms/step - loss: 0.2493\n",
      "Epoch 28/30\n",
      "1/1 [==============================] - 0s 17ms/step - loss: 0.2385\n",
      "Epoch 29/30\n",
      "1/1 [==============================] - 0s 17ms/step - loss: 0.2277\n",
      "Epoch 30/30\n",
      "1/1 [==============================] - 0s 16ms/step - loss: 0.2186\n"
     ]
    }
   ],
   "source": [
    "np.random.seed(42)\n",
    "tf.random.set_seed(42)\n",
    "\n",
    "model.compile(loss=\"mse\", optimizer='RMSprop')\n",
    "\n",
    "history = model.fit(train_x, train_target, epochs=30)"
   ]
  },
  {
   "cell_type": "markdown",
   "metadata": {},
   "source": [
    "### Predictions"
   ]
  },
  {
   "cell_type": "code",
   "execution_count": 75,
   "metadata": {},
   "outputs": [
    {
     "name": "stdout",
     "output_type": "stream",
     "text": [
      "WARNING:tensorflow:6 out of the last 6 calls to <function Model.make_predict_function.<locals>.predict_function at 0x00000207580BEF70> triggered tf.function retracing. Tracing is expensive and the excessive number of tracings could be due to (1) creating @tf.function repeatedly in a loop, (2) passing tensors with different shapes, (3) passing Python objects instead of tensors. For (1), please define your @tf.function outside of the loop. For (2), @tf.function has reduce_retracing=True option that can avoid unnecessary retracing. For (3), please refer to https://www.tensorflow.org/guide/function#controlling_retracing and https://www.tensorflow.org/api_docs/python/tf/function for  more details.\n",
      "1/1 [==============================] - 0s 263ms/step\n"
     ]
    }
   ],
   "source": [
    "#Predict:\n",
    "y_pred = model.predict(test_x)"
   ]
  },
  {
   "cell_type": "code",
   "execution_count": 76,
   "metadata": {},
   "outputs": [],
   "source": [
    "#Remember, these are standardized values. \n",
    "\n",
    "comparison = pd.DataFrame()\n",
    "\n",
    "comparison['actual'] = scaler.inverse_transform([test_target]).flatten()\n",
    "comparison['predicted'] = scaler.inverse_transform(y_pred).flatten()"
   ]
  },
  {
   "cell_type": "code",
   "execution_count": 77,
   "metadata": {},
   "outputs": [],
   "source": [
    "MSE = mean_squared_error(comparison['actual'], comparison['predicted'])"
   ]
  },
  {
   "cell_type": "code",
   "execution_count": 78,
   "metadata": {},
   "outputs": [
    {
     "data": {
      "text/html": [
       "<div>\n",
       "<style scoped>\n",
       "    .dataframe tbody tr th:only-of-type {\n",
       "        vertical-align: middle;\n",
       "    }\n",
       "\n",
       "    .dataframe tbody tr th {\n",
       "        vertical-align: top;\n",
       "    }\n",
       "\n",
       "    .dataframe thead th {\n",
       "        text-align: right;\n",
       "    }\n",
       "</style>\n",
       "<table border=\"1\" class=\"dataframe\">\n",
       "  <thead>\n",
       "    <tr style=\"text-align: right;\">\n",
       "      <th></th>\n",
       "      <th>model</th>\n",
       "      <th>MSE</th>\n",
       "    </tr>\n",
       "  </thead>\n",
       "  <tbody>\n",
       "    <tr>\n",
       "      <th>0</th>\n",
       "      <td>Normal NN</td>\n",
       "      <td>58.627369</td>\n",
       "    </tr>\n",
       "    <tr>\n",
       "      <th>0</th>\n",
       "      <td>simple RNN</td>\n",
       "      <td>40.712461</td>\n",
       "    </tr>\n",
       "    <tr>\n",
       "      <th>0</th>\n",
       "      <td>simple RNN with more layers</td>\n",
       "      <td>66.274844</td>\n",
       "    </tr>\n",
       "    <tr>\n",
       "      <th>0</th>\n",
       "      <td>LSTM RNN</td>\n",
       "      <td>80.026695</td>\n",
       "    </tr>\n",
       "    <tr>\n",
       "      <th>0</th>\n",
       "      <td>LSTM RNN with more layers</td>\n",
       "      <td>74.409253</td>\n",
       "    </tr>\n",
       "    <tr>\n",
       "      <th>0</th>\n",
       "      <td>GRU with more layers</td>\n",
       "      <td>57.830242</td>\n",
       "    </tr>\n",
       "  </tbody>\n",
       "</table>\n",
       "</div>"
      ],
      "text/plain": [
       "                         model        MSE\n",
       "0                    Normal NN  58.627369\n",
       "0                   simple RNN  40.712461\n",
       "0  simple RNN with more layers  66.274844\n",
       "0                     LSTM RNN  80.026695\n",
       "0    LSTM RNN with more layers  74.409253\n",
       "0         GRU with more layers  57.830242"
      ]
     },
     "execution_count": 78,
     "metadata": {},
     "output_type": "execute_result"
    }
   ],
   "source": [
    "performance = pd.concat([performance,pd.DataFrame({'model': 'GRU with more layers', 'MSE':MSE}, index=[0])])\n",
    "performance"
   ]
  },
  {
   "cell_type": "code",
   "execution_count": 79,
   "metadata": {},
   "outputs": [
    {
     "data": {
      "image/png": "[encoded data removed]",
      "text/plain": [
       "<Figure size 432x288 with 1 Axes>"
      ]
     },
     "metadata": {
      "needs_background": "light"
     },
     "output_type": "display_data"
    }
   ],
   "source": [
    "plt.plot(comparison['actual'], label = 'actual')\n",
    "plt.plot(comparison['predicted'], label = 'predicted')\n",
    "\n",
    "plt.legend()\n",
    "\n",
    "plt.show()"
   ]
  },
  {
   "cell_type": "markdown",
   "metadata": {},
   "source": [
    "# Conv1D"
   ]
  },
  {
   "cell_type": "markdown",
   "metadata": {},
   "source": [
    "### Last Layer: GRU (you can change it to SimpleRNN or LSTM as well)"
   ]
  },
  {
   "cell_type": "code",
   "execution_count": 80,
   "metadata": {
    "scrolled": true
   },
   "outputs": [],
   "source": [
    "model = keras.models.Sequential([\n",
    "    keras.layers.Conv1D(filters=20, kernel_size=3, strides=1, padding=\"valid\", input_shape=[9, 1]),\n",
    "    keras.layers.GRU(32, activation='relu', return_sequences=True),\n",
    "    keras.layers.GRU(32, activation='relu', return_sequences=False),\n",
    "    keras.layers.Dense(1, activation=None)\n",
    "])"
   ]
  },
  {
   "cell_type": "code",
   "execution_count": 81,
   "metadata": {
    "scrolled": true
   },
   "outputs": [
    {
     "name": "stdout",
     "output_type": "stream",
     "text": [
      "Epoch 1/30\n",
      "1/1 [==============================] - 3s 3s/step - loss: 0.8929\n",
      "Epoch 2/30\n",
      "1/1 [==============================] - 0s 14ms/step - loss: 0.8501\n",
      "Epoch 3/30\n",
      "1/1 [==============================] - 0s 15ms/step - loss: 0.8098\n",
      "Epoch 4/30\n",
      "1/1 [==============================] - 0s 16ms/step - loss: 0.7720\n",
      "Epoch 5/30\n",
      "1/1 [==============================] - 0s 16ms/step - loss: 0.7385\n",
      "Epoch 6/30\n",
      "1/1 [==============================] - 0s 16ms/step - loss: 0.7055\n",
      "Epoch 7/30\n",
      "1/1 [==============================] - 0s 18ms/step - loss: 0.6746\n",
      "Epoch 8/30\n",
      "1/1 [==============================] - 0s 15ms/step - loss: 0.6452\n",
      "Epoch 9/30\n",
      "1/1 [==============================] - 0s 15ms/step - loss: 0.6176\n",
      "Epoch 10/30\n",
      "1/1 [==============================] - 0s 16ms/step - loss: 0.5908\n",
      "Epoch 11/30\n",
      "1/1 [==============================] - 0s 22ms/step - loss: 0.5650\n",
      "Epoch 12/30\n",
      "1/1 [==============================] - 0s 12ms/step - loss: 0.5401\n",
      "Epoch 13/30\n",
      "1/1 [==============================] - 0s 17ms/step - loss: 0.5176\n",
      "Epoch 14/30\n",
      "1/1 [==============================] - 0s 33ms/step - loss: 0.4959\n",
      "Epoch 15/30\n",
      "1/1 [==============================] - 0s 15ms/step - loss: 0.4736\n",
      "Epoch 16/30\n",
      "1/1 [==============================] - 0s 17ms/step - loss: 0.4511\n",
      "Epoch 17/30\n",
      "1/1 [==============================] - 0s 17ms/step - loss: 0.4291\n",
      "Epoch 18/30\n",
      "1/1 [==============================] - 0s 17ms/step - loss: 0.4076\n",
      "Epoch 19/30\n",
      "1/1 [==============================] - 0s 16ms/step - loss: 0.3872\n",
      "Epoch 20/30\n",
      "1/1 [==============================] - 0s 17ms/step - loss: 0.3678\n",
      "Epoch 21/30\n",
      "1/1 [==============================] - 0s 1ms/step - loss: 0.3499\n",
      "Epoch 22/30\n",
      "1/1 [==============================] - 0s 17ms/step - loss: 0.3340\n",
      "Epoch 23/30\n",
      "1/1 [==============================] - 0s 16ms/step - loss: 0.3194\n",
      "Epoch 24/30\n",
      "1/1 [==============================] - 0s 18ms/step - loss: 0.3065\n",
      "Epoch 25/30\n",
      "1/1 [==============================] - 0s 16ms/step - loss: 0.2949\n",
      "Epoch 26/30\n",
      "1/1 [==============================] - 0s 16ms/step - loss: 0.2842\n",
      "Epoch 27/30\n",
      "1/1 [==============================] - 0s 18ms/step - loss: 0.2747\n",
      "Epoch 28/30\n",
      "1/1 [==============================] - 0s 16ms/step - loss: 0.2665\n",
      "Epoch 29/30\n",
      "1/1 [==============================] - 0s 17ms/step - loss: 0.2591\n",
      "Epoch 30/30\n",
      "1/1 [==============================] - 0s 1ms/step - loss: 0.2525\n"
     ]
    }
   ],
   "source": [
    "np.random.seed(42)\n",
    "tf.random.set_seed(42)\n",
    "\n",
    "model.compile(loss=\"mse\", optimizer='Adam')\n",
    "\n",
    "history = model.fit(train_x, train_target, epochs=30)"
   ]
  },
  {
   "cell_type": "markdown",
   "metadata": {},
   "source": [
    "### Predictions"
   ]
  },
  {
   "cell_type": "code",
   "execution_count": 82,
   "metadata": {},
   "outputs": [
    {
     "name": "stdout",
     "output_type": "stream",
     "text": [
      "1/1 [==============================] - 0s 269ms/step\n"
     ]
    }
   ],
   "source": [
    "#Predict:\n",
    "y_pred = model.predict(test_x)"
   ]
  },
  {
   "cell_type": "code",
   "execution_count": 83,
   "metadata": {},
   "outputs": [],
   "source": [
    "#Remember, these are standardized values. \n",
    "\n",
    "comparison = pd.DataFrame()\n",
    "\n",
    "comparison['actual'] = scaler.inverse_transform([test_target]).flatten()\n",
    "comparison['predicted'] = scaler.inverse_transform(y_pred).flatten()"
   ]
  },
  {
   "cell_type": "code",
   "execution_count": 84,
   "metadata": {},
   "outputs": [],
   "source": [
    "MSE = mean_squared_error(comparison['actual'], comparison['predicted'])"
   ]
  },
  {
   "cell_type": "code",
   "execution_count": 85,
   "metadata": {},
   "outputs": [
    {
     "data": {
      "text/html": [
       "<div>\n",
       "<style scoped>\n",
       "    .dataframe tbody tr th:only-of-type {\n",
       "        vertical-align: middle;\n",
       "    }\n",
       "\n",
       "    .dataframe tbody tr th {\n",
       "        vertical-align: top;\n",
       "    }\n",
       "\n",
       "    .dataframe thead th {\n",
       "        text-align: right;\n",
       "    }\n",
       "</style>\n",
       "<table border=\"1\" class=\"dataframe\">\n",
       "  <thead>\n",
       "    <tr style=\"text-align: right;\">\n",
       "      <th></th>\n",
       "      <th>model</th>\n",
       "      <th>MSE</th>\n",
       "    </tr>\n",
       "  </thead>\n",
       "  <tbody>\n",
       "    <tr>\n",
       "      <th>0</th>\n",
       "      <td>Normal NN</td>\n",
       "      <td>58.627369</td>\n",
       "    </tr>\n",
       "    <tr>\n",
       "      <th>0</th>\n",
       "      <td>simple RNN</td>\n",
       "      <td>40.712461</td>\n",
       "    </tr>\n",
       "    <tr>\n",
       "      <th>0</th>\n",
       "      <td>simple RNN with more layers</td>\n",
       "      <td>66.274844</td>\n",
       "    </tr>\n",
       "    <tr>\n",
       "      <th>0</th>\n",
       "      <td>LSTM RNN</td>\n",
       "      <td>80.026695</td>\n",
       "    </tr>\n",
       "    <tr>\n",
       "      <th>0</th>\n",
       "      <td>LSTM RNN with more layers</td>\n",
       "      <td>74.409253</td>\n",
       "    </tr>\n",
       "    <tr>\n",
       "      <th>0</th>\n",
       "      <td>GRU with more layers</td>\n",
       "      <td>57.830242</td>\n",
       "    </tr>\n",
       "    <tr>\n",
       "      <th>0</th>\n",
       "      <td>Conv1D</td>\n",
       "      <td>52.838375</td>\n",
       "    </tr>\n",
       "  </tbody>\n",
       "</table>\n",
       "</div>"
      ],
      "text/plain": [
       "                         model        MSE\n",
       "0                    Normal NN  58.627369\n",
       "0                   simple RNN  40.712461\n",
       "0  simple RNN with more layers  66.274844\n",
       "0                     LSTM RNN  80.026695\n",
       "0    LSTM RNN with more layers  74.409253\n",
       "0         GRU with more layers  57.830242\n",
       "0                       Conv1D  52.838375"
      ]
     },
     "execution_count": 85,
     "metadata": {},
     "output_type": "execute_result"
    }
   ],
   "source": [
    "performance = pd.concat([performance,pd.DataFrame({'model': 'Conv1D', 'MSE':MSE}, index=[0])])\n",
    "performance"
   ]
  },
  {
   "cell_type": "code",
   "execution_count": 86,
   "metadata": {},
   "outputs": [
    {
     "data": {
      "text/html": [
       "<div>\n",
       "<style scoped>\n",
       "    .dataframe tbody tr th:only-of-type {\n",
       "        vertical-align: middle;\n",
       "    }\n",
       "\n",
       "    .dataframe tbody tr th {\n",
       "        vertical-align: top;\n",
       "    }\n",
       "\n",
       "    .dataframe thead th {\n",
       "        text-align: right;\n",
       "    }\n",
       "</style>\n",
       "<table border=\"1\" class=\"dataframe\">\n",
       "  <thead>\n",
       "    <tr style=\"text-align: right;\">\n",
       "      <th></th>\n",
       "      <th>model</th>\n",
       "      <th>MSE</th>\n",
       "    </tr>\n",
       "  </thead>\n",
       "  <tbody>\n",
       "    <tr>\n",
       "      <th>0</th>\n",
       "      <td>simple RNN</td>\n",
       "      <td>40.712461</td>\n",
       "    </tr>\n",
       "    <tr>\n",
       "      <th>0</th>\n",
       "      <td>Conv1D</td>\n",
       "      <td>52.838375</td>\n",
       "    </tr>\n",
       "    <tr>\n",
       "      <th>0</th>\n",
       "      <td>GRU with more layers</td>\n",
       "      <td>57.830242</td>\n",
       "    </tr>\n",
       "    <tr>\n",
       "      <th>0</th>\n",
       "      <td>Normal NN</td>\n",
       "      <td>58.627369</td>\n",
       "    </tr>\n",
       "    <tr>\n",
       "      <th>0</th>\n",
       "      <td>simple RNN with more layers</td>\n",
       "      <td>66.274844</td>\n",
       "    </tr>\n",
       "    <tr>\n",
       "      <th>0</th>\n",
       "      <td>LSTM RNN with more layers</td>\n",
       "      <td>74.409253</td>\n",
       "    </tr>\n",
       "    <tr>\n",
       "      <th>0</th>\n",
       "      <td>LSTM RNN</td>\n",
       "      <td>80.026695</td>\n",
       "    </tr>\n",
       "  </tbody>\n",
       "</table>\n",
       "</div>"
      ],
      "text/plain": [
       "                         model        MSE\n",
       "0                   simple RNN  40.712461\n",
       "0                       Conv1D  52.838375\n",
       "0         GRU with more layers  57.830242\n",
       "0                    Normal NN  58.627369\n",
       "0  simple RNN with more layers  66.274844\n",
       "0    LSTM RNN with more layers  74.409253\n",
       "0                     LSTM RNN  80.026695"
      ]
     },
     "execution_count": 86,
     "metadata": {},
     "output_type": "execute_result"
    }
   ],
   "source": [
    "performance.sort_values(by='MSE')"
   ]
  },
  {
   "cell_type": "markdown",
   "metadata": {},
   "source": [
    "In genral lower the MSE is the better performing model, So from the above performed models we can say that simple RNN\n",
    "model is the better performing model with 40.71."
   ]
  }
 ],
 "metadata": {
  "kernelspec": {
   "display_name": "Python 3 (ipykernel)",
   "language": "python",
   "name": "python3"
  },
  "language_info": {
   "codemirror_mode": {
    "name": "ipython",
    "version": 3
   },
   "file_extension": ".py",
   "mimetype": "text/x-python",
   "name": "python",
   "nbconvert_exporter": "python",
   "pygments_lexer": "ipython3",
   "version": "3.9.12"
  },
  "nav_menu": {},
  "toc": {
   "base_numbering": 1,
   "nav_menu": {},
   "number_sections": false,
   "sideBar": true,
   "skip_h1_title": false,
   "title_cell": "Table of Contents",
   "title_sidebar": "Contents",
   "toc_cell": false,
   "toc_position": {},
   "toc_section_display": "block",
   "toc_window_display": false
  },
  "varInspector": {
   "cols": {
    "lenName": 16,
    "lenType": 16,
    "lenVar": 40
   },
   "kernels_config": {
    "python": {
     "delete_cmd_postfix": "",
     "delete_cmd_prefix": "del ",
     "library": "var_list.py",
     "varRefreshCmd": "print(var_dic_list())"
    },
    "r": {
     "delete_cmd_postfix": ") ",
     "delete_cmd_prefix": "rm(",
     "library": "var_list.r",
     "varRefreshCmd": "cat(var_dic_list()) "
    }
   },
   "types_to_exclude": [
    "module",
    "function",
    "builtin_function_or_method",
    "instance",
    "_Feature"
   ],
   "window_display": false
  }
 },
 "nbformat": 4,
 "nbformat_minor": 1
}
