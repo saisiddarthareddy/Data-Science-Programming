{
 "cells": [
  {
   "cell_type": "code",
   "execution_count": 10,
   "id": "d4a955fc",
   "metadata": {},
   "outputs": [],
   "source": [
    "# Import required libraries\n",
    "import pandas as pd\n",
    "import numpy as np\n",
    "from sklearn.model_selection import train_test_split\n",
    "from sklearn.linear_model import LogisticRegression\n",
    "from sklearn.svm import SVC\n",
    "from sklearn.tree import DecisionTreeClassifier\n",
    "from sklearn.model_selection import RandomizedSearchCV, GridSearchCV\n",
    "from sklearn.metrics import confusion_matrix\n",
    "from sklearn.metrics import accuracy_score\n",
    "from sklearn.metrics import precision_score\n",
    "from sklearn.metrics import recall_score\n",
    "from sklearn.metrics import accuracy_score\n",
    "np.random.seed(1)"
   ]
  },
  {
   "cell_type": "code",
   "execution_count": 11,
   "id": "ec3e5f88",
   "metadata": {},
   "outputs": [],
   "source": [
    "# Load the pre-processed data\n",
    "cartier = pd.read_csv('Cartier+3-day+auctions.csv')\n",
    "X_train = pd.read_csv(\"./cartier_train_X_price.csv\")\n",
    "X_test = pd.read_csv(\"./cartier_test_X_price.csv\")\n",
    "y_train = pd.read_csv(\"./cartier_train_y_price.csv\")\n",
    "y_test = pd.read_csv(\"./cartier_test_y_price.csv\")"
   ]
  },
  {
   "cell_type": "code",
   "execution_count": 12,
   "id": "893841f3",
   "metadata": {},
   "outputs": [],
   "source": [
    "# define performance metrics\n",
    "metrics = {'accuracy': accuracy_score,\n",
    "          'precision': precision_score,\n",
    "           'recall': recall_score}"
   ]
  },
  {
   "cell_type": "code",
   "execution_count": 13,
   "id": "4422610a",
   "metadata": {},
   "outputs": [
    {
     "name": "stdout",
     "output_type": "stream",
     "text": [
      "      price  price_cat\n",
      "0     26.00          0\n",
      "1     40.87          0\n",
      "2    176.50          0\n",
      "3    177.50          0\n",
      "4    200.01          0\n",
      "5    304.98          0\n",
      "6    326.00          0\n",
      "7    355.00          0\n",
      "8    405.00          0\n",
      "9    511.00          1\n",
      "10   610.00          1\n",
      "11   752.56          1\n",
      "12  1225.00          1\n",
      "13  1250.00          1\n",
      "14  1735.00          1\n",
      "15  2500.00          1\n"
     ]
    }
   ],
   "source": [
    "# Create a sample DataFrame with continuous variable price\n",
    "cartier = pd.DataFrame({'price': [26, 40.87, 176.5, 177.5, 200.01, 304.98, 326, 355, 405, 511, 610, 752.56, 1225, 1250, 1735, 2500]})\n",
    "\n",
    "# Define a threshold value of 1000\n",
    "threshold = 500\n",
    "\n",
    "# Create a new column 'price_cat' that categorizes price as 1 if it's above the threshold, 0 otherwise\n",
    "cartier['price_cat'] = (cartier['price'] > threshold).astype(int)\n",
    "\n",
    "# View the DataFrame with the new categorical variable\n",
    "print(cartier)"
   ]
  },
  {
   "cell_type": "code",
   "execution_count": 14,
   "id": "f87980f9",
   "metadata": {},
   "outputs": [
    {
     "name": "stdout",
     "output_type": "stream",
     "text": [
      "<class 'pandas.core.frame.DataFrame'>\n",
      "RangeIndex: 16 entries, 0 to 15\n",
      "Data columns (total 2 columns):\n",
      " #   Column     Non-Null Count  Dtype  \n",
      "---  ------     --------------  -----  \n",
      " 0   price      16 non-null     float64\n",
      " 1   price_cat  16 non-null     int32  \n",
      "dtypes: float64(1), int32(1)\n",
      "memory usage: 320.0 bytes\n"
     ]
    }
   ],
   "source": [
    "cartier.info()"
   ]
  },
  {
   "cell_type": "code",
   "execution_count": 15,
   "id": "ec1d5207",
   "metadata": {},
   "outputs": [
    {
     "data": {
      "text/plain": [
       "price        0\n",
       "price_cat    0\n",
       "dtype: int64"
      ]
     },
     "execution_count": 15,
     "metadata": {},
     "output_type": "execute_result"
    }
   ],
   "source": [
    "cartier.isna().sum()"
   ]
  },
  {
   "cell_type": "code",
   "execution_count": 16,
   "id": "8f40ff96",
   "metadata": {},
   "outputs": [
    {
     "data": {
      "text/html": [
       "<div>\n",
       "<style scoped>\n",
       "    .dataframe tbody tr th:only-of-type {\n",
       "        vertical-align: middle;\n",
       "    }\n",
       "\n",
       "    .dataframe tbody tr th {\n",
       "        vertical-align: top;\n",
       "    }\n",
       "\n",
       "    .dataframe thead th {\n",
       "        text-align: right;\n",
       "    }\n",
       "</style>\n",
       "<table border=\"1\" class=\"dataframe\">\n",
       "  <thead>\n",
       "    <tr style=\"text-align: right;\">\n",
       "      <th></th>\n",
       "      <th>price</th>\n",
       "      <th>price_cat</th>\n",
       "    </tr>\n",
       "  </thead>\n",
       "  <tbody>\n",
       "    <tr>\n",
       "      <th>count</th>\n",
       "      <td>16.000000</td>\n",
       "      <td>16.000000</td>\n",
       "    </tr>\n",
       "    <tr>\n",
       "      <th>mean</th>\n",
       "      <td>662.213750</td>\n",
       "      <td>0.437500</td>\n",
       "    </tr>\n",
       "    <tr>\n",
       "      <th>std</th>\n",
       "      <td>688.032577</td>\n",
       "      <td>0.512348</td>\n",
       "    </tr>\n",
       "    <tr>\n",
       "      <th>min</th>\n",
       "      <td>26.000000</td>\n",
       "      <td>0.000000</td>\n",
       "    </tr>\n",
       "    <tr>\n",
       "      <th>25%</th>\n",
       "      <td>194.382500</td>\n",
       "      <td>0.000000</td>\n",
       "    </tr>\n",
       "    <tr>\n",
       "      <th>50%</th>\n",
       "      <td>380.000000</td>\n",
       "      <td>0.000000</td>\n",
       "    </tr>\n",
       "    <tr>\n",
       "      <th>75%</th>\n",
       "      <td>870.670000</td>\n",
       "      <td>1.000000</td>\n",
       "    </tr>\n",
       "    <tr>\n",
       "      <th>max</th>\n",
       "      <td>2500.000000</td>\n",
       "      <td>1.000000</td>\n",
       "    </tr>\n",
       "  </tbody>\n",
       "</table>\n",
       "</div>"
      ],
      "text/plain": [
       "             price  price_cat\n",
       "count    16.000000  16.000000\n",
       "mean    662.213750   0.437500\n",
       "std     688.032577   0.512348\n",
       "min      26.000000   0.000000\n",
       "25%     194.382500   0.000000\n",
       "50%     380.000000   0.000000\n",
       "75%     870.670000   1.000000\n",
       "max    2500.000000   1.000000"
      ]
     },
     "execution_count": 16,
     "metadata": {},
     "output_type": "execute_result"
    }
   ],
   "source": [
    "cartier.describe()"
   ]
  },
  {
   "cell_type": "code",
   "execution_count": null,
   "id": "5210fd6c",
   "metadata": {},
   "outputs": [],
   "source": []
  }
 ],
 "metadata": {
  "kernelspec": {
   "display_name": "Python 3 (ipykernel)",
   "language": "python",
   "name": "python3"
  },
  "language_info": {
   "codemirror_mode": {
    "name": "ipython",
    "version": 3
   },
   "file_extension": ".py",
   "mimetype": "text/x-python",
   "name": "python",
   "nbconvert_exporter": "python",
   "pygments_lexer": "ipython3",
   "version": "3.9.12"
  }
 },
 "nbformat": 4,
 "nbformat_minor": 5
}
