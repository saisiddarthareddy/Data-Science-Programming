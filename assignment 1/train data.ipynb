{
 "cells": [
  {
   "cell_type": "code",
   "execution_count": 1,
   "id": "ab32c0d1",
   "metadata": {},
   "outputs": [],
   "source": [
    "# import numpy and pandas libraries\n",
    "import numpy as np\n",
    "import pandas as pd\n",
    "from sklearn.preprocessing import LabelEncoder\n",
    "\n",
    "from sklearn.model_selection import train_test_split\n",
    "from sklearn import preprocessing\n",
    "from sklearn.linear_model import LogisticRegression\n",
    "from sklearn.metrics import confusion_matrix\n",
    "from sklearn.svm import SVC\n",
    "from sklearn.tree import DecisionTreeClassifier \n",
    "from sklearn.model_selection import GridSearchCV, RandomizedSearchCV\n",
    "from sklearn.metrics import recall_score\n",
    "from sklearn.tree import DecisionTreeRegressor\n",
    "from matplotlib import pyplot as plt\n",
    "import numpy as np\n",
    "from sklearn.metrics import confusion_matrix\n",
    "from sklearn.model_selection import GridSearchCV, RandomizedSearchCV\n",
    "# set random seed to ensure that results are repeatable\n",
    "np.random.seed(1)\n"
   ]
  },
  {
   "cell_type": "code",
   "execution_count": 2,
   "id": "69fc764d",
   "metadata": {},
   "outputs": [
    {
     "data": {
      "text/html": [
       "<div>\n",
       "<style scoped>\n",
       "    .dataframe tbody tr th:only-of-type {\n",
       "        vertical-align: middle;\n",
       "    }\n",
       "\n",
       "    .dataframe tbody tr th {\n",
       "        vertical-align: top;\n",
       "    }\n",
       "\n",
       "    .dataframe thead th {\n",
       "        text-align: right;\n",
       "    }\n",
       "</style>\n",
       "<table border=\"1\" class=\"dataframe\">\n",
       "  <thead>\n",
       "    <tr style=\"text-align: right;\">\n",
       "      <th></th>\n",
       "      <th>auctionid</th>\n",
       "      <th>bid</th>\n",
       "      <th>bidtime</th>\n",
       "      <th>bidder</th>\n",
       "      <th>bidderrate</th>\n",
       "      <th>openbid</th>\n",
       "      <th>price</th>\n",
       "      <th>Price_cat</th>\n",
       "    </tr>\n",
       "  </thead>\n",
       "  <tbody>\n",
       "    <tr>\n",
       "      <th>0</th>\n",
       "      <td>1649726994</td>\n",
       "      <td>1000.0</td>\n",
       "      <td>0.191238</td>\n",
       "      <td>sandragian</td>\n",
       "      <td>10</td>\n",
       "      <td>500.0</td>\n",
       "      <td>2500.0</td>\n",
       "      <td>1</td>\n",
       "    </tr>\n",
       "    <tr>\n",
       "      <th>1</th>\n",
       "      <td>1649726994</td>\n",
       "      <td>656.0</td>\n",
       "      <td>0.454734</td>\n",
       "      <td>vickdan</td>\n",
       "      <td>200</td>\n",
       "      <td>500.0</td>\n",
       "      <td>2500.0</td>\n",
       "      <td>1</td>\n",
       "    </tr>\n",
       "    <tr>\n",
       "      <th>2</th>\n",
       "      <td>1649726994</td>\n",
       "      <td>777.0</td>\n",
       "      <td>0.454907</td>\n",
       "      <td>vickdan</td>\n",
       "      <td>200</td>\n",
       "      <td>500.0</td>\n",
       "      <td>2500.0</td>\n",
       "      <td>1</td>\n",
       "    </tr>\n",
       "    <tr>\n",
       "      <th>3</th>\n",
       "      <td>1649726994</td>\n",
       "      <td>888.0</td>\n",
       "      <td>0.455162</td>\n",
       "      <td>vickdan</td>\n",
       "      <td>200</td>\n",
       "      <td>500.0</td>\n",
       "      <td>2500.0</td>\n",
       "      <td>1</td>\n",
       "    </tr>\n",
       "    <tr>\n",
       "      <th>4</th>\n",
       "      <td>1649726994</td>\n",
       "      <td>1000.0</td>\n",
       "      <td>0.896366</td>\n",
       "      <td>19511969</td>\n",
       "      <td>0</td>\n",
       "      <td>500.0</td>\n",
       "      <td>2500.0</td>\n",
       "      <td>1</td>\n",
       "    </tr>\n",
       "  </tbody>\n",
       "</table>\n",
       "</div>"
      ],
      "text/plain": [
       "    auctionid     bid   bidtime      bidder  bidderrate  openbid   price  \\\n",
       "0  1649726994  1000.0  0.191238  sandragian          10    500.0  2500.0   \n",
       "1  1649726994   656.0  0.454734     vickdan         200    500.0  2500.0   \n",
       "2  1649726994   777.0  0.454907     vickdan         200    500.0  2500.0   \n",
       "3  1649726994   888.0  0.455162     vickdan         200    500.0  2500.0   \n",
       "4  1649726994  1000.0  0.896366    19511969           0    500.0  2500.0   \n",
       "\n",
       "   Price_cat  \n",
       "0          1  \n",
       "1          1  \n",
       "2          1  \n",
       "3          1  \n",
       "4          1  "
      ]
     },
     "execution_count": 2,
     "metadata": {},
     "output_type": "execute_result"
    }
   ],
   "source": [
    "# load data\n",
    "cartier = pd.read_csv(\"Cartier+3-day+auctions.csv\")\n",
    "cartier.head()"
   ]
  },
  {
   "cell_type": "code",
   "execution_count": 3,
   "id": "1f27a553",
   "metadata": {},
   "outputs": [
    {
     "name": "stdout",
     "output_type": "stream",
     "text": [
      "<class 'pandas.core.frame.DataFrame'>\n",
      "RangeIndex: 250 entries, 0 to 249\n",
      "Data columns (total 8 columns):\n",
      " #   Column      Non-Null Count  Dtype  \n",
      "---  ------      --------------  -----  \n",
      " 0   auctionid   250 non-null    int64  \n",
      " 1   bid         250 non-null    float64\n",
      " 2   bidtime     250 non-null    float64\n",
      " 3   bidder      250 non-null    object \n",
      " 4   bidderrate  250 non-null    int64  \n",
      " 5   openbid     250 non-null    float64\n",
      " 6   price       250 non-null    float64\n",
      " 7   Price_cat   250 non-null    int64  \n",
      "dtypes: float64(4), int64(3), object(1)\n",
      "memory usage: 15.8+ KB\n"
     ]
    }
   ],
   "source": [
    "# generate a basic summary of the data\n",
    "cartier.info()"
   ]
  },
  {
   "cell_type": "code",
   "execution_count": 4,
   "id": "13af845b",
   "metadata": {},
   "outputs": [
    {
     "data": {
      "text/html": [
       "<div>\n",
       "<style scoped>\n",
       "    .dataframe tbody tr th:only-of-type {\n",
       "        vertical-align: middle;\n",
       "    }\n",
       "\n",
       "    .dataframe tbody tr th {\n",
       "        vertical-align: top;\n",
       "    }\n",
       "\n",
       "    .dataframe thead th {\n",
       "        text-align: right;\n",
       "    }\n",
       "</style>\n",
       "<table border=\"1\" class=\"dataframe\">\n",
       "  <thead>\n",
       "    <tr style=\"text-align: right;\">\n",
       "      <th></th>\n",
       "      <th>auctionid</th>\n",
       "      <th>bid</th>\n",
       "      <th>bidtime</th>\n",
       "      <th>bidderrate</th>\n",
       "      <th>openbid</th>\n",
       "      <th>price</th>\n",
       "      <th>Price_cat</th>\n",
       "    </tr>\n",
       "  </thead>\n",
       "  <tbody>\n",
       "    <tr>\n",
       "      <th>count</th>\n",
       "      <td>2.500000e+02</td>\n",
       "      <td>250.000000</td>\n",
       "      <td>250.000000</td>\n",
       "      <td>250.000000</td>\n",
       "      <td>250.000000</td>\n",
       "      <td>250.000000</td>\n",
       "      <td>250.000000</td>\n",
       "    </tr>\n",
       "    <tr>\n",
       "      <th>mean</th>\n",
       "      <td>1.644726e+09</td>\n",
       "      <td>422.631320</td>\n",
       "      <td>1.968105</td>\n",
       "      <td>20.664000</td>\n",
       "      <td>165.721440</td>\n",
       "      <td>678.779800</td>\n",
       "      <td>0.256000</td>\n",
       "    </tr>\n",
       "    <tr>\n",
       "      <th>std</th>\n",
       "      <td>3.192030e+06</td>\n",
       "      <td>455.408398</td>\n",
       "      <td>0.973897</td>\n",
       "      <td>119.055786</td>\n",
       "      <td>246.486937</td>\n",
       "      <td>606.148336</td>\n",
       "      <td>0.437297</td>\n",
       "    </tr>\n",
       "    <tr>\n",
       "      <th>min</th>\n",
       "      <td>1.638894e+09</td>\n",
       "      <td>1.000000</td>\n",
       "      <td>0.075671</td>\n",
       "      <td>0.000000</td>\n",
       "      <td>1.000000</td>\n",
       "      <td>26.000000</td>\n",
       "      <td>0.000000</td>\n",
       "    </tr>\n",
       "    <tr>\n",
       "      <th>25%</th>\n",
       "      <td>1.643076e+09</td>\n",
       "      <td>150.992500</td>\n",
       "      <td>1.031583</td>\n",
       "      <td>0.000000</td>\n",
       "      <td>99.000000</td>\n",
       "      <td>326.000000</td>\n",
       "      <td>0.000000</td>\n",
       "    </tr>\n",
       "    <tr>\n",
       "      <th>50%</th>\n",
       "      <td>1.643903e+09</td>\n",
       "      <td>251.980000</td>\n",
       "      <td>2.311950</td>\n",
       "      <td>2.000000</td>\n",
       "      <td>99.990000</td>\n",
       "      <td>405.000000</td>\n",
       "      <td>0.000000</td>\n",
       "    </tr>\n",
       "    <tr>\n",
       "      <th>75%</th>\n",
       "      <td>1.647871e+09</td>\n",
       "      <td>500.750000</td>\n",
       "      <td>2.873565</td>\n",
       "      <td>13.500000</td>\n",
       "      <td>149.990000</td>\n",
       "      <td>1225.000000</td>\n",
       "      <td>1.000000</td>\n",
       "    </tr>\n",
       "    <tr>\n",
       "      <th>max</th>\n",
       "      <td>1.649727e+09</td>\n",
       "      <td>2500.000000</td>\n",
       "      <td>2.999965</td>\n",
       "      <td>1838.000000</td>\n",
       "      <td>1200.000000</td>\n",
       "      <td>2500.000000</td>\n",
       "      <td>1.000000</td>\n",
       "    </tr>\n",
       "  </tbody>\n",
       "</table>\n",
       "</div>"
      ],
      "text/plain": [
       "          auctionid          bid     bidtime   bidderrate      openbid  \\\n",
       "count  2.500000e+02   250.000000  250.000000   250.000000   250.000000   \n",
       "mean   1.644726e+09   422.631320    1.968105    20.664000   165.721440   \n",
       "std    3.192030e+06   455.408398    0.973897   119.055786   246.486937   \n",
       "min    1.638894e+09     1.000000    0.075671     0.000000     1.000000   \n",
       "25%    1.643076e+09   150.992500    1.031583     0.000000    99.000000   \n",
       "50%    1.643903e+09   251.980000    2.311950     2.000000    99.990000   \n",
       "75%    1.647871e+09   500.750000    2.873565    13.500000   149.990000   \n",
       "max    1.649727e+09  2500.000000    2.999965  1838.000000  1200.000000   \n",
       "\n",
       "             price   Price_cat  \n",
       "count   250.000000  250.000000  \n",
       "mean    678.779800    0.256000  \n",
       "std     606.148336    0.437297  \n",
       "min      26.000000    0.000000  \n",
       "25%     326.000000    0.000000  \n",
       "50%     405.000000    0.000000  \n",
       "75%    1225.000000    1.000000  \n",
       "max    2500.000000    1.000000  "
      ]
     },
     "execution_count": 4,
     "metadata": {},
     "output_type": "execute_result"
    }
   ],
   "source": [
    "# generate a statistical summary of the numeric value in the data\n",
    "cartier.describe()"
   ]
  },
  {
   "cell_type": "code",
   "execution_count": 5,
   "id": "dde0ea39",
   "metadata": {},
   "outputs": [
    {
     "data": {
      "text/plain": [
       "auctionid     0\n",
       "bid           0\n",
       "bidtime       0\n",
       "bidder        0\n",
       "bidderrate    0\n",
       "openbid       0\n",
       "price         0\n",
       "Price_cat     0\n",
       "dtype: int64"
      ]
     },
     "execution_count": 5,
     "metadata": {},
     "output_type": "execute_result"
    }
   ],
   "source": [
    "# Check the missing values by summing the total na's for each variable\n",
    "cartier.isna().sum()"
   ]
  },
  {
   "cell_type": "code",
   "execution_count": 6,
   "id": "db0e87a2",
   "metadata": {},
   "outputs": [
    {
     "data": {
      "text/plain": [
       "['bidder']"
      ]
     },
     "execution_count": 6,
     "metadata": {},
     "output_type": "execute_result"
    }
   ],
   "source": [
    "# create a list of these catagorical variables\n",
    "category_var_list = list(cartier.select_dtypes(include='object').columns)\n",
    "category_var_list"
   ]
  },
  {
   "cell_type": "code",
   "execution_count": 7,
   "id": "f0131543",
   "metadata": {},
   "outputs": [
    {
     "name": "stdout",
     "output_type": "stream",
     "text": [
      "Category: bidder Values: ['sandragian' 'vickdan' '19511969' 'mumm29usa' 'wworld@bignet.net'\n",
      " 'drumzz' 'kht-max' 'daigle1122' 'cbcolqunoun' 'richbaby10@aol.com'\n",
      " 'bigpoppalarock' 'rplfunding' 'kakruse' 'pressmer1' 'g123y@aol.com'\n",
      " 'cmtk1' 'tonyfred1@aol.com' 'jas16100' 'fordlower' 'claxonn' 'cars4016'\n",
      " 'tebbebd' 'olloqui' 'toryx' 'lou1965' 'saphi7171@amexol.net'\n",
      " 'restdynamics' '61rolls' 'rcs19010' 'bellatmk' 'auntdotbids' 'chi-town7'\n",
      " 'pereluzi00' 'barginbook' 'treasureprincess' 'beelprez' 'leakang'\n",
      " 'jcobb74787' 'gracedivine' 'tverna' 'jimboysan' '2gd4u' 'bonerboy-24401'\n",
      " 'vnvu009' 'phyllis120577' 'mybelladesigns@aol.com' 'rotepat'\n",
      " 'harleyrusty' 'sb812' 'mesmorado' 'robcmjr@bellsouth.net' 'pensri'\n",
      " 'yung-wen' 'mdhallin' 'trunkbath' 'lancearmer' 'bigdaddy67' 'jengrif'\n",
      " 'akryzak' 'alexwestla' 'lass1004' 'shoecrazy' 'k.l.pine' 'jdaddle'\n",
      " 'jaha803' 'gm492@columbia.edu' '6969.ca' 'kasika5' 'thom54' 'bdsr1'\n",
      " 'babaranda' 'amysuewarner@hotmail.com' 'kat2911' 'bella@thegrid.net'\n",
      " 'princess-ginger' 'eastpark7506' 'groth@bizrate.com' 'perpetualtime'\n",
      " 'bdoocean@aol.com' 'fany' 'rscearendil' 'jimb@netsync.net' 'gram999'\n",
      " 'bfalconb' 'veuvenoire' 'norcal_datsun' 'schadenfreud' 'chuik'\n",
      " 'kiwisstuff' 'eli.flint@flightsafety.co' 'sbord']\n"
     ]
    }
   ],
   "source": [
    "# explore the categorical variable values - often there are typos here that need to be fixed.\n",
    "for cat in category_var_list: # generally, we want to avoid for loops and use a functional style (i.e. list comprehension)\n",
    "    print(f\"Category: {cat} Values: {cartier[cat].unique()}\")"
   ]
  },
  {
   "cell_type": "code",
   "execution_count": 8,
   "id": "f77edb3a",
   "metadata": {},
   "outputs": [],
   "source": [
    "#cartier.drop(['price'], axis=1, inplace = True)"
   ]
  },
  {
   "cell_type": "code",
   "execution_count": 9,
   "id": "649c7ff0",
   "metadata": {},
   "outputs": [],
   "source": [
    "labelencoder = LabelEncoder()\n",
    "cartier['bidder'] = labelencoder.fit_transform(cartier['bidder'])\n"
   ]
  },
  {
   "cell_type": "code",
   "execution_count": 10,
   "id": "210118d9",
   "metadata": {},
   "outputs": [
    {
     "name": "stdout",
     "output_type": "stream",
     "text": [
      "<class 'pandas.core.frame.DataFrame'>\n",
      "RangeIndex: 250 entries, 0 to 249\n",
      "Data columns (total 8 columns):\n",
      " #   Column      Non-Null Count  Dtype  \n",
      "---  ------      --------------  -----  \n",
      " 0   auctionid   250 non-null    int64  \n",
      " 1   bid         250 non-null    float64\n",
      " 2   bidtime     250 non-null    float64\n",
      " 3   bidder      250 non-null    int32  \n",
      " 4   bidderrate  250 non-null    int64  \n",
      " 5   openbid     250 non-null    float64\n",
      " 6   price       250 non-null    float64\n",
      " 7   Price_cat   250 non-null    int64  \n",
      "dtypes: float64(4), int32(1), int64(3)\n",
      "memory usage: 14.8 KB\n"
     ]
    }
   ],
   "source": [
    "# explore the dataframe columns to verify encoding and dropped columns\n",
    "cartier.info()"
   ]
  },
  {
   "cell_type": "code",
   "execution_count": 16,
   "id": "b186e545",
   "metadata": {},
   "outputs": [],
   "source": [
    "# split the data into validation and training set\n",
    "train_df, test_df = train_test_split(cartier, test_size=0.4)\n",
    "\n",
    "# to reduce repetition in later code, create variables to represent the columns\n",
    "# that are our predictors and target\n",
    "target = 'Price_cat'\n",
    "predictors = list(cartier.columns)\n",
    "predictors.remove(target)\n"
   ]
  },
  {
   "cell_type": "code",
   "execution_count": 18,
   "id": "5faf6939",
   "metadata": {},
   "outputs": [],
   "source": [
    "# create a standard scaler and fit it to the training set of predictors\n",
    "scaler = preprocessing.StandardScaler()\n",
    "cols_to_stdize = predictors               \n",
    "               \n",
    "# Transform the predictors of training and validation sets\n",
    "train_df[cols_to_stdize] = scaler.fit_transform(train_df[cols_to_stdize]) # train_predictors is not a numpy array\n",
    "test_df[cols_to_stdize] = scaler.transform(test_df[cols_to_stdize]) # validation_target is now a series object\n",
    "\n",
    "train_X = train_df[predictors]\n",
    "train_y = train_df[target] # train_target is now a series objecttrain_df.to_csv('airbnb_train_df.csv', index=False)\n",
    "test_X = train_df[predictors]\n",
    "test_y = test_df[target] # validation_target is now a series object"
   ]
  },
  {
   "cell_type": "code",
   "execution_count": 19,
   "id": "35acaa06",
   "metadata": {},
   "outputs": [],
   "source": [
    "train_x = train_df[predictors]\n",
    "train_y = train_df[target] # train_target is now a series objecttrain Cartier+3-day+auctions_csv('cartier.csv', index=False)\n",
    "test_x = test_df[predictors]\n",
    "test_y = test_df[target] # validation_target is now a series object\n",
    "\n",
    "train_df.to_csv('./cartier_train_df_price.csv', index=False)\n",
    "train_x.to_csv('./cartier_train_X_price.csv', index=False)\n",
    "train_y.to_csv('./cartier_train_y_price.csv', index=False)\n",
    "test_df.to_csv('./cartier_test_df_price.csv', index=False)\n",
    "test_x.to_csv('./cartier_test_X_price.csv', index=False)\n",
    "test_y.to_csv('./cartier_test_y_price.csv', index=False)"
   ]
  },
  {
   "cell_type": "code",
   "execution_count": null,
   "id": "703ddfc7",
   "metadata": {},
   "outputs": [],
   "source": []
  }
 ],
 "metadata": {
  "kernelspec": {
   "display_name": "Python 3 (ipykernel)",
   "language": "python",
   "name": "python3"
  },
  "language_info": {
   "codemirror_mode": {
    "name": "ipython",
    "version": 3
   },
   "file_extension": ".py",
   "mimetype": "text/x-python",
   "name": "python",
   "nbconvert_exporter": "python",
   "pygments_lexer": "ipython3",
   "version": "3.9.12"
  }
 },
 "nbformat": 4,
 "nbformat_minor": 5
}
