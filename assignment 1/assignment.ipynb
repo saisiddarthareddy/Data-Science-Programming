{
 "cells": [
  {
   "cell_type": "code",
   "execution_count": 1,
   "id": "12ee2116",
   "metadata": {},
   "outputs": [],
   "source": [
    "# Import required libraries\n",
    "import pandas as pd\n",
    "import numpy as np\n",
    "from sklearn.model_selection import train_test_split\n",
    "from sklearn.linear_model import LogisticRegression\n",
    "from sklearn.svm import SVC\n",
    "from sklearn.tree import DecisionTreeClassifier\n",
    "from sklearn.model_selection import RandomizedSearchCV, GridSearchCV\n",
    "from sklearn.metrics import confusion_matrix\n",
    "from sklearn.metrics import accuracy_score\n",
    "from sklearn.metrics import precision_score\n",
    "from sklearn.metrics import recall_score\n",
    "from sklearn.metrics import accuracy_score\n",
    "np.random.seed(1)"
   ]
  },
  {
   "cell_type": "code",
   "execution_count": 2,
   "id": "943bd20b",
   "metadata": {},
   "outputs": [],
   "source": [
    "# Load the pre-processed data\n",
    "cartier = pd.read_csv('Cartier+3-day+auctions.csv')\n",
    "X_train = pd.read_csv(\"./cartier_train_X_price.csv\")\n",
    "X_test = pd.read_csv(\"./cartier_test_X_price.csv\")\n",
    "y_train = pd.read_csv(\"./cartier_train_y_price.csv\")\n",
    "y_test = pd.read_csv(\"./cartier_test_y_price.csv\")"
   ]
  },
  {
   "cell_type": "code",
   "execution_count": 3,
   "id": "5d3d3163",
   "metadata": {},
   "outputs": [],
   "source": [
    "# define performance metrics\n",
    "metrics = {'accuracy': accuracy_score,\n",
    "          'precision': precision_score,\n",
    "           'recall': recall_score}"
   ]
  },
  {
   "cell_type": "code",
   "execution_count": 9,
   "id": "53ef7a45",
   "metadata": {},
   "outputs": [
    {
     "name": "stdout",
     "output_type": "stream",
     "text": [
      "      price  price_cat\n",
      "0     26.00          0\n",
      "1     40.87          0\n",
      "2    176.50          0\n",
      "3    177.50          0\n",
      "4    200.01          0\n",
      "5    304.98          0\n",
      "6    326.00          0\n",
      "7    355.00          0\n",
      "8    405.00          0\n",
      "9    511.00          1\n",
      "10   610.00          1\n",
      "11   752.56          1\n",
      "12  1225.00          1\n",
      "13  1250.00          1\n",
      "14  1735.00          1\n",
      "15  2500.00          1\n"
     ]
    }
   ],
   "source": [
    "# Create a sample DataFrame with continuous variable price\n",
    "cartier = pd.DataFrame({'price': [26, 40.87, 176.5, 177.5, 200.01, 304.98, 326, 355, 405, 511, 610, 752.56, 1225, 1250, 1735, 2500]})\n",
    "\n",
    "# Define a threshold value of 1000\n",
    "threshold = 500\n",
    "\n",
    "# Create a new column 'price_cat' that categorizes price as 1 if it's above the threshold, 0 otherwise\n",
    "cartier['price_cat'] = (cartier['price'] > threshold).astype(int)\n",
    "\n",
    "\n",
    "# View the DataFrame with the new categorical variable\n",
    "print(cartier)\n",
    "\n"
   ]
  },
  {
   "cell_type": "code",
   "execution_count": 12,
   "id": "88e5809e",
   "metadata": {},
   "outputs": [],
   "source": [
    "performance = pd.DataFrame({\"model\": [], \"Accuracy\": [], \"Precision\": [], \"Recall\": [], \"F1\": []})"
   ]
  },
  {
   "cell_type": "code",
   "execution_count": null,
   "id": "70bc0eda",
   "metadata": {},
   "outputs": [],
   "source": []
  },
  {
   "cell_type": "code",
   "execution_count": null,
   "id": "f7d1c67e",
   "metadata": {},
   "outputs": [],
   "source": []
  }
 ],
 "metadata": {
  "kernelspec": {
   "display_name": "Python 3 (ipykernel)",
   "language": "python",
   "name": "python3"
  },
  "language_info": {
   "codemirror_mode": {
    "name": "ipython",
    "version": 3
   },
   "file_extension": ".py",
   "mimetype": "text/x-python",
   "name": "python",
   "nbconvert_exporter": "python",
   "pygments_lexer": "ipython3",
   "version": "3.9.12"
  }
 },
 "nbformat": 4,
 "nbformat_minor": 5
}
